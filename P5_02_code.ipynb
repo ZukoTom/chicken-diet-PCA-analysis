{
 "cells": [
  {
   "cell_type": "markdown",
   "metadata": {},
   "source": [
    "# **P5 étude de marché**"
   ]
  },
  {
   "cell_type": "markdown",
   "metadata": {},
   "source": [
    "Plan\n",
    "1. Préparation des données\n",
    "\n",
    "    1.1. Assemblage du Dataframe principal\\\n",
    "    1.2. Assemblade d'un DF qui donne des infos sur la consomation de Poulet\\\n",
    "    1.3. Merge du DF relatif au régime alimentaire dans le le DF prinicipal\n",
    "    \n",
    "\n",
    "2. Clustering\n",
    "\n",
    "    2.1 Par k-means\\\n",
    "    2.2 Par dendrogramme\\\n",
    "    2.3 Par ACP\\\n",
    "    2.3.1 méthode de l'ACP et graphes\\\n",
    "    2.3.2 choix des PC, étude des \"loading\" en complément\n",
    "\n",
    "\n",
    "3. Tests statistiques"
   ]
  },
  {
   "cell_type": "code",
   "execution_count": 1,
   "metadata": {},
   "outputs": [],
   "source": [
    "#importation des librairies\n",
    "import pandas as pd\n",
    "import numpy as np\n",
    "import matplotlib.pyplot as plt\n",
    "from matplotlib import cm\n",
    "import seaborn as sns\n",
    "from scipy.cluster.hierarchy import dendrogram, linkage, fcluster\n",
    "from sklearn.cluster import KMeans\n",
    "from sklearn.preprocessing import scale, StandardScaler\n",
    "from sklearn.datasets import load_digits\n",
    "from sklearn import metrics\n",
    "from sklearn.decomposition import PCA\n",
    "from mpl_toolkits.mplot3d import Axes3D"
   ]
  },
  {
   "cell_type": "code",
   "execution_count": 2,
   "metadata": {},
   "outputs": [],
   "source": [
    "#importation des données dans des dataframes\n",
    "df1 = pd.read_csv(\"FAOSTAT_data_2-12-2022-2.csv\")\n",
    "df2 = pd.read_csv(\"FAOSTAT_data_2-11-2022-1.csv\")\n",
    "df2017 = pd.read_csv(\"FAOSTAT_data_2-14-2022.csv\")\n",
    "#données régime alimentaire\n",
    "df_chick = pd.read_csv(\"FAOSTAT_data_2-12-2022.csv\")\n",
    "global_diet = pd.read_csv(\"FAOSTAT_data_2-14-2022-1b.csv\")"
   ]
  },
  {
   "cell_type": "markdown",
   "metadata": {},
   "source": [
    "## 1. **Préparation des données**"
   ]
  },
  {
   "cell_type": "markdown",
   "metadata": {},
   "source": [
    "### 1.1. Assemblage du Dataframe principal"
   ]
  },
  {
   "cell_type": "code",
   "execution_count": 3,
   "metadata": {},
   "outputs": [
    {
     "data": {
      "text/plain": [
       "array([ True,  True,  True,  True,  True,  True,  True,  True,  True,\n",
       "        True,  True,  True,  True,  True,  True])"
      ]
     },
     "execution_count": 3,
     "metadata": {},
     "output_type": "execute_result"
    }
   ],
   "source": [
    "df1.columns == df2.columns"
   ]
  },
  {
   "cell_type": "code",
   "execution_count": 4,
   "metadata": {},
   "outputs": [
    {
     "data": {
      "text/html": [
       "<div>\n",
       "<style scoped>\n",
       "    .dataframe tbody tr th:only-of-type {\n",
       "        vertical-align: middle;\n",
       "    }\n",
       "\n",
       "    .dataframe tbody tr th {\n",
       "        vertical-align: top;\n",
       "    }\n",
       "\n",
       "    .dataframe thead th {\n",
       "        text-align: right;\n",
       "    }\n",
       "</style>\n",
       "<table border=\"1\" class=\"dataframe\">\n",
       "  <thead>\n",
       "    <tr style=\"text-align: right;\">\n",
       "      <th></th>\n",
       "      <th>Code Domaine</th>\n",
       "      <th>Domaine</th>\n",
       "      <th>Code zone (FAO)</th>\n",
       "      <th>Zone</th>\n",
       "      <th>Code Élément</th>\n",
       "      <th>Élément</th>\n",
       "      <th>Code Produit</th>\n",
       "      <th>Produit</th>\n",
       "      <th>Code année</th>\n",
       "      <th>Année</th>\n",
       "      <th>Unité</th>\n",
       "      <th>Valeur</th>\n",
       "      <th>Symbole</th>\n",
       "      <th>Description du Symbole</th>\n",
       "      <th>Note</th>\n",
       "    </tr>\n",
       "  </thead>\n",
       "  <tbody>\n",
       "    <tr>\n",
       "      <th>0</th>\n",
       "      <td>OA</td>\n",
       "      <td>Séries temporelles annuelles</td>\n",
       "      <td>2</td>\n",
       "      <td>Afghanistan</td>\n",
       "      <td>511</td>\n",
       "      <td>Population totale</td>\n",
       "      <td>3010</td>\n",
       "      <td>Population-Estimations</td>\n",
       "      <td>2015</td>\n",
       "      <td>2015</td>\n",
       "      <td>1000 personnes</td>\n",
       "      <td>34413.603</td>\n",
       "      <td>X</td>\n",
       "      <td>Sources internationales sûres</td>\n",
       "      <td>NaN</td>\n",
       "    </tr>\n",
       "    <tr>\n",
       "      <th>1</th>\n",
       "      <td>OA</td>\n",
       "      <td>Séries temporelles annuelles</td>\n",
       "      <td>202</td>\n",
       "      <td>Afrique du Sud</td>\n",
       "      <td>511</td>\n",
       "      <td>Population totale</td>\n",
       "      <td>3010</td>\n",
       "      <td>Population-Estimations</td>\n",
       "      <td>2015</td>\n",
       "      <td>2015</td>\n",
       "      <td>1000 personnes</td>\n",
       "      <td>55386.367</td>\n",
       "      <td>X</td>\n",
       "      <td>Sources internationales sûres</td>\n",
       "      <td>NaN</td>\n",
       "    </tr>\n",
       "    <tr>\n",
       "      <th>2</th>\n",
       "      <td>OA</td>\n",
       "      <td>Séries temporelles annuelles</td>\n",
       "      <td>3</td>\n",
       "      <td>Albanie</td>\n",
       "      <td>511</td>\n",
       "      <td>Population totale</td>\n",
       "      <td>3010</td>\n",
       "      <td>Population-Estimations</td>\n",
       "      <td>2015</td>\n",
       "      <td>2015</td>\n",
       "      <td>1000 personnes</td>\n",
       "      <td>2890.513</td>\n",
       "      <td>X</td>\n",
       "      <td>Sources internationales sûres</td>\n",
       "      <td>NaN</td>\n",
       "    </tr>\n",
       "    <tr>\n",
       "      <th>3</th>\n",
       "      <td>OA</td>\n",
       "      <td>Séries temporelles annuelles</td>\n",
       "      <td>4</td>\n",
       "      <td>Algérie</td>\n",
       "      <td>511</td>\n",
       "      <td>Population totale</td>\n",
       "      <td>3010</td>\n",
       "      <td>Population-Estimations</td>\n",
       "      <td>2015</td>\n",
       "      <td>2015</td>\n",
       "      <td>1000 personnes</td>\n",
       "      <td>39728.025</td>\n",
       "      <td>X</td>\n",
       "      <td>Sources internationales sûres</td>\n",
       "      <td>NaN</td>\n",
       "    </tr>\n",
       "    <tr>\n",
       "      <th>4</th>\n",
       "      <td>OA</td>\n",
       "      <td>Séries temporelles annuelles</td>\n",
       "      <td>79</td>\n",
       "      <td>Allemagne</td>\n",
       "      <td>511</td>\n",
       "      <td>Population totale</td>\n",
       "      <td>3010</td>\n",
       "      <td>Population-Estimations</td>\n",
       "      <td>2015</td>\n",
       "      <td>2015</td>\n",
       "      <td>1000 personnes</td>\n",
       "      <td>81787.411</td>\n",
       "      <td>X</td>\n",
       "      <td>Sources internationales sûres</td>\n",
       "      <td>NaN</td>\n",
       "    </tr>\n",
       "  </tbody>\n",
       "</table>\n",
       "</div>"
      ],
      "text/plain": [
       "  Code Domaine                       Domaine  Code zone (FAO)            Zone  \\\n",
       "0           OA  Séries temporelles annuelles                2     Afghanistan   \n",
       "1           OA  Séries temporelles annuelles              202  Afrique du Sud   \n",
       "2           OA  Séries temporelles annuelles                3         Albanie   \n",
       "3           OA  Séries temporelles annuelles                4         Algérie   \n",
       "4           OA  Séries temporelles annuelles               79       Allemagne   \n",
       "\n",
       "   Code Élément            Élément  Code Produit                 Produit  \\\n",
       "0           511  Population totale          3010  Population-Estimations   \n",
       "1           511  Population totale          3010  Population-Estimations   \n",
       "2           511  Population totale          3010  Population-Estimations   \n",
       "3           511  Population totale          3010  Population-Estimations   \n",
       "4           511  Population totale          3010  Population-Estimations   \n",
       "\n",
       "   Code année  Année           Unité     Valeur Symbole  \\\n",
       "0        2015   2015  1000 personnes  34413.603       X   \n",
       "1        2015   2015  1000 personnes  55386.367       X   \n",
       "2        2015   2015  1000 personnes   2890.513       X   \n",
       "3        2015   2015  1000 personnes  39728.025       X   \n",
       "4        2015   2015  1000 personnes  81787.411       X   \n",
       "\n",
       "          Description du Symbole Note  \n",
       "0  Sources internationales sûres  NaN  \n",
       "1  Sources internationales sûres  NaN  \n",
       "2  Sources internationales sûres  NaN  \n",
       "3  Sources internationales sûres  NaN  \n",
       "4  Sources internationales sûres  NaN  "
      ]
     },
     "execution_count": 4,
     "metadata": {},
     "output_type": "execute_result"
    }
   ],
   "source": [
    "#les colonnes sont égales donc on peut concat\n",
    "frames = [df2, df1]\n",
    "pop = pd.concat(frames)\n",
    "pop.head()"
   ]
  },
  {
   "cell_type": "code",
   "execution_count": 5,
   "metadata": {},
   "outputs": [
    {
     "name": "stdout",
     "output_type": "stream",
     "text": [
      "pas de doublons\n"
     ]
    }
   ],
   "source": [
    "#présence doublons?\n",
    "pop.duplicated(keep=False)\n",
    "if 'True' in (pop.duplicated(subset=['Zone','Valeur'],keep=False)):\n",
    "    print('présence un doublon')\n",
    "else:\n",
    "    print('pas de doublons') "
   ]
  },
  {
   "cell_type": "code",
   "execution_count": 6,
   "metadata": {},
   "outputs": [
    {
     "name": "stdout",
     "output_type": "stream",
     "text": [
      "c'est une clé unique\n"
     ]
    }
   ],
   "source": [
    "#fonction tester si clé est primaire ds une table\n",
    "def testClePrim(df, column):\n",
    "    if len(df) != len(df[column].drop_duplicates()):\n",
    "        print(\"ce n'est pas une clé unique\")\n",
    "    else : print(\"c'est une clé unique\")\n",
    "\n",
    "testClePrim(pop, ['Zone', 'Année'])"
   ]
  },
  {
   "cell_type": "code",
   "execution_count": 7,
   "metadata": {},
   "outputs": [
    {
     "data": {
      "text/html": [
       "<div>\n",
       "<style scoped>\n",
       "    .dataframe tbody tr th:only-of-type {\n",
       "        vertical-align: middle;\n",
       "    }\n",
       "\n",
       "    .dataframe tbody tr th {\n",
       "        vertical-align: top;\n",
       "    }\n",
       "\n",
       "    .dataframe thead th {\n",
       "        text-align: right;\n",
       "    }\n",
       "</style>\n",
       "<table border=\"1\" class=\"dataframe\">\n",
       "  <thead>\n",
       "    <tr style=\"text-align: right;\">\n",
       "      <th>Année</th>\n",
       "      <th>2015</th>\n",
       "      <th>2017</th>\n",
       "      <th>ev_2015-2017</th>\n",
       "    </tr>\n",
       "    <tr>\n",
       "      <th>Zone</th>\n",
       "      <th></th>\n",
       "      <th></th>\n",
       "      <th></th>\n",
       "    </tr>\n",
       "  </thead>\n",
       "  <tbody>\n",
       "    <tr>\n",
       "      <th>Afghanistan</th>\n",
       "      <td>34413.603</td>\n",
       "      <td>36296.113</td>\n",
       "      <td>5.47</td>\n",
       "    </tr>\n",
       "    <tr>\n",
       "      <th>Afrique du Sud</th>\n",
       "      <td>55386.367</td>\n",
       "      <td>57009.756</td>\n",
       "      <td>2.93</td>\n",
       "    </tr>\n",
       "    <tr>\n",
       "      <th>Albanie</th>\n",
       "      <td>2890.513</td>\n",
       "      <td>2884.169</td>\n",
       "      <td>-0.22</td>\n",
       "    </tr>\n",
       "  </tbody>\n",
       "</table>\n",
       "</div>"
      ],
      "text/plain": [
       "Année                2015       2017  ev_2015-2017\n",
       "Zone                                              \n",
       "Afghanistan     34413.603  36296.113          5.47\n",
       "Afrique du Sud  55386.367  57009.756          2.93\n",
       "Albanie          2890.513   2884.169         -0.22"
      ]
     },
     "execution_count": 7,
     "metadata": {},
     "output_type": "execute_result"
    }
   ],
   "source": [
    "#on assemble un multi index\n",
    "pop_p = pop.pivot_table(index = ['Zone'], values = 'Valeur', columns = 'Année')\n",
    "#on ajoute une colonne du taux d'évolution de la population\n",
    "pop_p['ev_2015-2017'] = ((pop_p[2017] - pop_p[2015])*100/pop_p[2015]).round(decimals=2)\n",
    "pop_p.head(3)"
   ]
  },
  {
   "cell_type": "code",
   "execution_count": 8,
   "metadata": {},
   "outputs": [
    {
     "data": {
      "text/plain": [
       "237"
      ]
     },
     "execution_count": 8,
     "metadata": {},
     "output_type": "execute_result"
    }
   ],
   "source": [
    "len(pop_p.index)"
   ]
  },
  {
   "cell_type": "markdown",
   "metadata": {},
   "source": [
    "#### => le DF de l'évolution de la population comporte 237 pays"
   ]
  },
  {
   "cell_type": "code",
   "execution_count": 9,
   "metadata": {},
   "outputs": [
    {
     "data": {
      "text/html": [
       "<div>\n",
       "<style scoped>\n",
       "    .dataframe tbody tr th:only-of-type {\n",
       "        vertical-align: middle;\n",
       "    }\n",
       "\n",
       "    .dataframe tbody tr th {\n",
       "        vertical-align: top;\n",
       "    }\n",
       "\n",
       "    .dataframe thead th {\n",
       "        text-align: right;\n",
       "    }\n",
       "</style>\n",
       "<table border=\"1\" class=\"dataframe\">\n",
       "  <thead>\n",
       "    <tr style=\"text-align: right;\">\n",
       "      <th></th>\n",
       "      <th>Produit</th>\n",
       "      <th>Unité</th>\n",
       "    </tr>\n",
       "  </thead>\n",
       "  <tbody>\n",
       "    <tr>\n",
       "      <th>0</th>\n",
       "      <td>Disponibilité alimentaire par habitant utilisé...</td>\n",
       "      <td>Kcal/personne/jour</td>\n",
       "    </tr>\n",
       "    <tr>\n",
       "      <th>1</th>\n",
       "      <td>Disponibilités protéiques moyennes (g/personne...</td>\n",
       "      <td>g/personne/jour</td>\n",
       "    </tr>\n",
       "    <tr>\n",
       "      <th>2</th>\n",
       "      <td>Disponibilités protéines moyennes d’origine an...</td>\n",
       "      <td>g/personne/jour</td>\n",
       "    </tr>\n",
       "    <tr>\n",
       "      <th>3</th>\n",
       "      <td>PIB par habitant, ($ PPA internationaux consta...</td>\n",
       "      <td>I$</td>\n",
       "    </tr>\n",
       "    <tr>\n",
       "      <th>4</th>\n",
       "      <td>Stabilité politique et absence de violence/ter...</td>\n",
       "      <td>indice</td>\n",
       "    </tr>\n",
       "  </tbody>\n",
       "</table>\n",
       "</div>"
      ],
      "text/plain": [
       "                                             Produit               Unité\n",
       "0  Disponibilité alimentaire par habitant utilisé...  Kcal/personne/jour\n",
       "1  Disponibilités protéiques moyennes (g/personne...     g/personne/jour\n",
       "2  Disponibilités protéines moyennes d’origine an...     g/personne/jour\n",
       "3  PIB par habitant, ($ PPA internationaux consta...                  I$\n",
       "4  Stabilité politique et absence de violence/ter...              indice"
      ]
     },
     "execution_count": 9,
     "metadata": {},
     "output_type": "execute_result"
    }
   ],
   "source": [
    "# test : unités\n",
    "df2017[['Produit', 'Unité']].drop_duplicates()"
   ]
  },
  {
   "cell_type": "code",
   "execution_count": 10,
   "metadata": {},
   "outputs": [
    {
     "name": "stdout",
     "output_type": "stream",
     "text": [
      "pas de doublons\n"
     ]
    }
   ],
   "source": [
    "#recherche de potentiels duplicates du fichier df2017\n",
    "df2017.duplicated(keep=False)\n",
    "if 'True' in (pop.duplicated(subset=['Zone','Valeur'],keep=False)):\n",
    "    print('présence un doublon')\n",
    "else:\n",
    "    print('pas de doublons') "
   ]
  },
  {
   "cell_type": "code",
   "execution_count": 11,
   "metadata": {},
   "outputs": [
    {
     "data": {
      "text/plain": [
       "array([2017])"
      ]
     },
     "execution_count": 11,
     "metadata": {},
     "output_type": "execute_result"
    }
   ],
   "source": [
    "#On nettoye le format des modalités de la var 'Année'\n",
    "df2017['Année'] = df2017['Année'].str.replace('2016-2018','2017')\n",
    "df2017['Année'] = pd.to_numeric(df2017['Année']) \n",
    "df2017['Année'].unique()"
   ]
  },
  {
   "cell_type": "code",
   "execution_count": 12,
   "metadata": {
    "scrolled": true
   },
   "outputs": [
    {
     "data": {
      "text/plain": [
       "count       910.000000\n",
       "mean       4856.300582\n",
       "std       12892.750645\n",
       "min          -2.940000\n",
       "25%          14.075000\n",
       "50%          82.350000\n",
       "75%        3031.750000\n",
       "max      126184.000000\n",
       "Name: Valeur, dtype: float64"
      ]
     },
     "execution_count": 12,
     "metadata": {},
     "output_type": "execute_result"
    }
   ],
   "source": [
    "df2017['Valeur'].describe()"
   ]
  },
  {
   "cell_type": "code",
   "execution_count": 13,
   "metadata": {},
   "outputs": [
    {
     "data": {
      "text/html": [
       "<div>\n",
       "<style scoped>\n",
       "    .dataframe tbody tr th:only-of-type {\n",
       "        vertical-align: middle;\n",
       "    }\n",
       "\n",
       "    .dataframe tbody tr th {\n",
       "        vertical-align: top;\n",
       "    }\n",
       "\n",
       "    .dataframe thead th {\n",
       "        text-align: right;\n",
       "    }\n",
       "</style>\n",
       "<table border=\"1\" class=\"dataframe\">\n",
       "  <thead>\n",
       "    <tr style=\"text-align: right;\">\n",
       "      <th>Produit</th>\n",
       "      <th>dispo_alim</th>\n",
       "      <th>Disponibilités protéines moyennes d’origine animale (g/personne/jour) (moyenne sur 3 ans)</th>\n",
       "      <th>Disponibilités protéiques moyennes (g/personne/jour) (moyenne sur 3 ans)</th>\n",
       "      <th>PIB par habitant, ($ PPA internationaux constants de 2011)</th>\n",
       "      <th>Stabilité politique et absence de violence/terrorisme (indice)</th>\n",
       "    </tr>\n",
       "    <tr>\n",
       "      <th>Zone</th>\n",
       "      <th></th>\n",
       "      <th></th>\n",
       "      <th></th>\n",
       "      <th></th>\n",
       "      <th></th>\n",
       "    </tr>\n",
       "  </thead>\n",
       "  <tbody>\n",
       "    <tr>\n",
       "      <th>Afghanistan</th>\n",
       "      <td>2266.0</td>\n",
       "      <td>10.7</td>\n",
       "      <td>55.7</td>\n",
       "      <td>2058.4</td>\n",
       "      <td>-2.80</td>\n",
       "    </tr>\n",
       "    <tr>\n",
       "      <th>Afrique du Sud</th>\n",
       "      <td>2902.0</td>\n",
       "      <td>36.0</td>\n",
       "      <td>83.7</td>\n",
       "      <td>12701.3</td>\n",
       "      <td>-0.28</td>\n",
       "    </tr>\n",
       "    <tr>\n",
       "      <th>Albanie</th>\n",
       "      <td>3377.0</td>\n",
       "      <td>62.7</td>\n",
       "      <td>116.7</td>\n",
       "      <td>12771.0</td>\n",
       "      <td>0.38</td>\n",
       "    </tr>\n",
       "    <tr>\n",
       "      <th>Algérie</th>\n",
       "      <td>3402.0</td>\n",
       "      <td>25.6</td>\n",
       "      <td>92.3</td>\n",
       "      <td>11737.4</td>\n",
       "      <td>-0.92</td>\n",
       "    </tr>\n",
       "    <tr>\n",
       "      <th>Allemagne</th>\n",
       "      <td>3551.0</td>\n",
       "      <td>63.0</td>\n",
       "      <td>104.3</td>\n",
       "      <td>52952.9</td>\n",
       "      <td>0.59</td>\n",
       "    </tr>\n",
       "  </tbody>\n",
       "</table>\n",
       "</div>"
      ],
      "text/plain": [
       "Produit         dispo_alim  \\\n",
       "Zone                         \n",
       "Afghanistan         2266.0   \n",
       "Afrique du Sud      2902.0   \n",
       "Albanie             3377.0   \n",
       "Algérie             3402.0   \n",
       "Allemagne           3551.0   \n",
       "\n",
       "Produit         Disponibilités protéines moyennes d’origine animale (g/personne/jour) (moyenne sur 3 ans)  \\\n",
       "Zone                                                                                                        \n",
       "Afghanistan                                                  10.7                                           \n",
       "Afrique du Sud                                               36.0                                           \n",
       "Albanie                                                      62.7                                           \n",
       "Algérie                                                      25.6                                           \n",
       "Allemagne                                                    63.0                                           \n",
       "\n",
       "Produit         Disponibilités protéiques moyennes (g/personne/jour) (moyenne sur 3 ans)  \\\n",
       "Zone                                                                                       \n",
       "Afghanistan                                                  55.7                          \n",
       "Afrique du Sud                                               83.7                          \n",
       "Albanie                                                     116.7                          \n",
       "Algérie                                                      92.3                          \n",
       "Allemagne                                                   104.3                          \n",
       "\n",
       "Produit         PIB par habitant, ($ PPA internationaux constants de 2011)  \\\n",
       "Zone                                                                         \n",
       "Afghanistan                                                2058.4            \n",
       "Afrique du Sud                                            12701.3            \n",
       "Albanie                                                   12771.0            \n",
       "Algérie                                                   11737.4            \n",
       "Allemagne                                                 52952.9            \n",
       "\n",
       "Produit         Stabilité politique et absence de violence/terrorisme (indice)  \n",
       "Zone                                                                            \n",
       "Afghanistan                                                 -2.80               \n",
       "Afrique du Sud                                              -0.28               \n",
       "Albanie                                                      0.38               \n",
       "Algérie                                                     -0.92               \n",
       "Allemagne                                                    0.59               "
      ]
     },
     "execution_count": 13,
     "metadata": {},
     "output_type": "execute_result"
    }
   ],
   "source": [
    "# on pivote le df pour avoir la var 'Produit' en colonnes\n",
    "df2017_p = df2017.pivot_table(index = 'Zone', values = 'Valeur', columns = 'Produit')\n",
    "df2017_p.head(3)\n",
    "#On renomme les colonnes entre autres pour mettre à jour les unités\n",
    "df2017_p.rename(columns={\n",
    "    \"Disponibilité alimentaire par habitant utilisée dans l'estimation de la prévalence de la sous-alimentation (kcal/personne/jour) (moyenne sur 3 ans)\": 'dispo_alim',\n",
    "}, inplace=True)\n",
    "df2017_p.head()"
   ]
  },
  {
   "cell_type": "code",
   "execution_count": 14,
   "metadata": {},
   "outputs": [
    {
     "data": {
      "text/plain": [
       "36"
      ]
     },
     "execution_count": 14,
     "metadata": {},
     "output_type": "execute_result"
    }
   ],
   "source": [
    "#il y a 36 pays perdus dans le df du régime alimentaire\n",
    "len(pop_p.index) - len(df2017_p.index)"
   ]
  },
  {
   "cell_type": "code",
   "execution_count": 15,
   "metadata": {},
   "outputs": [
    {
     "data": {
      "text/plain": [
       "array(['Anguilla', 'Antilles néerlandaises (ex)', 'Aruba',\n",
       "       'Bonaire, Saint-Eustache et Saba', 'Curaçao', 'Gibraltar',\n",
       "       'Guadeloupe', 'Guam', 'Guyane française', 'Liechtenstein',\n",
       "       'Martinique', 'Mayotte', 'Monaco', 'Montserrat', 'Nioué',\n",
       "       'Réunion', 'Sahara occidental', 'Saint-Barthélemy', 'Saint-Marin',\n",
       "       'Saint-Martin (partie française)', 'Saint-Pierre-et-Miquelon',\n",
       "       'Saint-Siège', 'Sainte-Hélène, Ascension et Tristan da Cunha',\n",
       "       'Sint Maarten (partie néerlandaise)', 'Tokélaou', 'Île de Man',\n",
       "       'Îles Anglo-Normandes', 'Îles Caïmanes', 'Îles Cook',\n",
       "       'Îles Falkland (Malvinas)', 'Îles Féroé', 'Îles Mariannes du Nord',\n",
       "       'Îles Turques-et-Caïques', 'Îles Vierges américaines',\n",
       "       'Îles Vierges britanniques', 'Îles Wallis-et-Futuna'], dtype=object)"
      ]
     },
     "execution_count": 15,
     "metadata": {},
     "output_type": "execute_result"
    }
   ],
   "source": [
    "#quels pays de pop_p ne sont PAS dans df2017_p?\n",
    "np.setdiff1d(pop_p.index,df2017_p.index)"
   ]
  },
  {
   "cell_type": "code",
   "execution_count": 16,
   "metadata": {},
   "outputs": [
    {
     "data": {
      "text/plain": [
       "array([], dtype=object)"
      ]
     },
     "execution_count": 16,
     "metadata": {},
     "output_type": "execute_result"
    }
   ],
   "source": [
    "#dans le sens inverse : quels pays de df2017_p ne sont PAS dans pop_p?\n",
    "np.setdiff1d(df2017_p.index,pop_p.index)"
   ]
  },
  {
   "cell_type": "code",
   "execution_count": 17,
   "metadata": {},
   "outputs": [],
   "source": [
    "#On calcule le taux de protéines\n",
    "df2017_p['rate_prot'] = \\\n",
    "(df2017_p['Disponibilités protéines moyennes d’origine animale (g/personne/jour) (moyenne sur 3 ans)']/ \\\n",
    "df2017_p['Disponibilités protéiques moyennes (g/personne/jour) (moyenne sur 3 ans)']).round(decimals=2)"
   ]
  },
  {
   "cell_type": "code",
   "execution_count": 18,
   "metadata": {
    "scrolled": true
   },
   "outputs": [
    {
     "data": {
      "text/html": [
       "<div>\n",
       "<style scoped>\n",
       "    .dataframe tbody tr th:only-of-type {\n",
       "        vertical-align: middle;\n",
       "    }\n",
       "\n",
       "    .dataframe tbody tr th {\n",
       "        vertical-align: top;\n",
       "    }\n",
       "\n",
       "    .dataframe thead th {\n",
       "        text-align: right;\n",
       "    }\n",
       "</style>\n",
       "<table border=\"1\" class=\"dataframe\">\n",
       "  <thead>\n",
       "    <tr style=\"text-align: right;\">\n",
       "      <th>Produit</th>\n",
       "      <th>dispo_alim</th>\n",
       "      <th>Disponibilités protéines moyennes d’origine animale (g/personne/jour) (moyenne sur 3 ans)</th>\n",
       "      <th>Disponibilités protéiques moyennes (g/personne/jour) (moyenne sur 3 ans)</th>\n",
       "      <th>PIB par habitant, ($ PPA internationaux constants de 2011)</th>\n",
       "      <th>Stabilité politique et absence de violence/terrorisme (indice)</th>\n",
       "      <th>rate_prot</th>\n",
       "    </tr>\n",
       "    <tr>\n",
       "      <th>Zone</th>\n",
       "      <th></th>\n",
       "      <th></th>\n",
       "      <th></th>\n",
       "      <th></th>\n",
       "      <th></th>\n",
       "      <th></th>\n",
       "    </tr>\n",
       "  </thead>\n",
       "  <tbody>\n",
       "    <tr>\n",
       "      <th>Afghanistan</th>\n",
       "      <td>2266.0</td>\n",
       "      <td>10.7</td>\n",
       "      <td>55.7</td>\n",
       "      <td>2058.4</td>\n",
       "      <td>-2.80</td>\n",
       "      <td>0.19</td>\n",
       "    </tr>\n",
       "    <tr>\n",
       "      <th>Afrique du Sud</th>\n",
       "      <td>2902.0</td>\n",
       "      <td>36.0</td>\n",
       "      <td>83.7</td>\n",
       "      <td>12701.3</td>\n",
       "      <td>-0.28</td>\n",
       "      <td>0.43</td>\n",
       "    </tr>\n",
       "    <tr>\n",
       "      <th>Albanie</th>\n",
       "      <td>3377.0</td>\n",
       "      <td>62.7</td>\n",
       "      <td>116.7</td>\n",
       "      <td>12771.0</td>\n",
       "      <td>0.38</td>\n",
       "      <td>0.54</td>\n",
       "    </tr>\n",
       "    <tr>\n",
       "      <th>Algérie</th>\n",
       "      <td>3402.0</td>\n",
       "      <td>25.6</td>\n",
       "      <td>92.3</td>\n",
       "      <td>11737.4</td>\n",
       "      <td>-0.92</td>\n",
       "      <td>0.28</td>\n",
       "    </tr>\n",
       "    <tr>\n",
       "      <th>Allemagne</th>\n",
       "      <td>3551.0</td>\n",
       "      <td>63.0</td>\n",
       "      <td>104.3</td>\n",
       "      <td>52952.9</td>\n",
       "      <td>0.59</td>\n",
       "      <td>0.60</td>\n",
       "    </tr>\n",
       "  </tbody>\n",
       "</table>\n",
       "</div>"
      ],
      "text/plain": [
       "Produit         dispo_alim  \\\n",
       "Zone                         \n",
       "Afghanistan         2266.0   \n",
       "Afrique du Sud      2902.0   \n",
       "Albanie             3377.0   \n",
       "Algérie             3402.0   \n",
       "Allemagne           3551.0   \n",
       "\n",
       "Produit         Disponibilités protéines moyennes d’origine animale (g/personne/jour) (moyenne sur 3 ans)  \\\n",
       "Zone                                                                                                        \n",
       "Afghanistan                                                  10.7                                           \n",
       "Afrique du Sud                                               36.0                                           \n",
       "Albanie                                                      62.7                                           \n",
       "Algérie                                                      25.6                                           \n",
       "Allemagne                                                    63.0                                           \n",
       "\n",
       "Produit         Disponibilités protéiques moyennes (g/personne/jour) (moyenne sur 3 ans)  \\\n",
       "Zone                                                                                       \n",
       "Afghanistan                                                  55.7                          \n",
       "Afrique du Sud                                               83.7                          \n",
       "Albanie                                                     116.7                          \n",
       "Algérie                                                      92.3                          \n",
       "Allemagne                                                   104.3                          \n",
       "\n",
       "Produit         PIB par habitant, ($ PPA internationaux constants de 2011)  \\\n",
       "Zone                                                                         \n",
       "Afghanistan                                                2058.4            \n",
       "Afrique du Sud                                            12701.3            \n",
       "Albanie                                                   12771.0            \n",
       "Algérie                                                   11737.4            \n",
       "Allemagne                                                 52952.9            \n",
       "\n",
       "Produit         Stabilité politique et absence de violence/terrorisme (indice)  \\\n",
       "Zone                                                                             \n",
       "Afghanistan                                                 -2.80                \n",
       "Afrique du Sud                                              -0.28                \n",
       "Albanie                                                      0.38                \n",
       "Algérie                                                     -0.92                \n",
       "Allemagne                                                    0.59                \n",
       "\n",
       "Produit         rate_prot  \n",
       "Zone                       \n",
       "Afghanistan          0.19  \n",
       "Afrique du Sud       0.43  \n",
       "Albanie              0.54  \n",
       "Algérie              0.28  \n",
       "Allemagne            0.60  "
      ]
     },
     "execution_count": 18,
     "metadata": {},
     "output_type": "execute_result"
    }
   ],
   "source": [
    "df2017_p.head()#.index.unique()"
   ]
  },
  {
   "cell_type": "code",
   "execution_count": 19,
   "metadata": {},
   "outputs": [
    {
     "data": {
      "text/plain": [
       "Produit\n",
       "dispo_alim                                                                                   21\n",
       "Disponibilités protéines moyennes d’origine animale (g/personne/jour) (moyenne sur 3 ans)    28\n",
       "Disponibilités protéiques moyennes (g/personne/jour) (moyenne sur 3 ans)                     28\n",
       "PIB par habitant, ($ PPA internationaux constants de 2011)                                   14\n",
       "Stabilité politique et absence de violence/terrorisme (indice)                                4\n",
       "rate_prot                                                                                    28\n",
       "dtype: int64"
      ]
     },
     "execution_count": 19,
     "metadata": {},
     "output_type": "execute_result"
    }
   ],
   "source": [
    "df2017_p.isnull().sum()"
   ]
  },
  {
   "cell_type": "code",
   "execution_count": 20,
   "metadata": {},
   "outputs": [
    {
     "data": {
      "text/html": [
       "<div>\n",
       "<style scoped>\n",
       "    .dataframe tbody tr th:only-of-type {\n",
       "        vertical-align: middle;\n",
       "    }\n",
       "\n",
       "    .dataframe tbody tr th {\n",
       "        vertical-align: top;\n",
       "    }\n",
       "\n",
       "    .dataframe thead th {\n",
       "        text-align: right;\n",
       "    }\n",
       "</style>\n",
       "<table border=\"1\" class=\"dataframe\">\n",
       "  <thead>\n",
       "    <tr style=\"text-align: right;\">\n",
       "      <th></th>\n",
       "      <th>dispo_alim</th>\n",
       "      <th>Disponibilités protéines moyennes d’origine animale (g/personne/jour) (moyenne sur 3 ans)</th>\n",
       "      <th>Disponibilités protéiques moyennes (g/personne/jour) (moyenne sur 3 ans)</th>\n",
       "      <th>PIB par habitant, ($ PPA internationaux constants de 2011)</th>\n",
       "      <th>Stabilité politique et absence de violence/terrorisme (indice)</th>\n",
       "      <th>rate_prot</th>\n",
       "      <th>ev_2015-2017</th>\n",
       "    </tr>\n",
       "    <tr>\n",
       "      <th>Zone</th>\n",
       "      <th></th>\n",
       "      <th></th>\n",
       "      <th></th>\n",
       "      <th></th>\n",
       "      <th></th>\n",
       "      <th></th>\n",
       "      <th></th>\n",
       "    </tr>\n",
       "  </thead>\n",
       "  <tbody>\n",
       "    <tr>\n",
       "      <th>Afghanistan</th>\n",
       "      <td>2266.0</td>\n",
       "      <td>10.7</td>\n",
       "      <td>55.7</td>\n",
       "      <td>2058.4</td>\n",
       "      <td>-2.80</td>\n",
       "      <td>0.19</td>\n",
       "      <td>5.47</td>\n",
       "    </tr>\n",
       "    <tr>\n",
       "      <th>Afrique du Sud</th>\n",
       "      <td>2902.0</td>\n",
       "      <td>36.0</td>\n",
       "      <td>83.7</td>\n",
       "      <td>12701.3</td>\n",
       "      <td>-0.28</td>\n",
       "      <td>0.43</td>\n",
       "      <td>2.93</td>\n",
       "    </tr>\n",
       "    <tr>\n",
       "      <th>Albanie</th>\n",
       "      <td>3377.0</td>\n",
       "      <td>62.7</td>\n",
       "      <td>116.7</td>\n",
       "      <td>12771.0</td>\n",
       "      <td>0.38</td>\n",
       "      <td>0.54</td>\n",
       "      <td>-0.22</td>\n",
       "    </tr>\n",
       "    <tr>\n",
       "      <th>Algérie</th>\n",
       "      <td>3402.0</td>\n",
       "      <td>25.6</td>\n",
       "      <td>92.3</td>\n",
       "      <td>11737.4</td>\n",
       "      <td>-0.92</td>\n",
       "      <td>0.28</td>\n",
       "      <td>4.18</td>\n",
       "    </tr>\n",
       "    <tr>\n",
       "      <th>Allemagne</th>\n",
       "      <td>3551.0</td>\n",
       "      <td>63.0</td>\n",
       "      <td>104.3</td>\n",
       "      <td>52952.9</td>\n",
       "      <td>0.59</td>\n",
       "      <td>0.60</td>\n",
       "      <td>1.06</td>\n",
       "    </tr>\n",
       "  </tbody>\n",
       "</table>\n",
       "</div>"
      ],
      "text/plain": [
       "                dispo_alim  \\\n",
       "Zone                         \n",
       "Afghanistan         2266.0   \n",
       "Afrique du Sud      2902.0   \n",
       "Albanie             3377.0   \n",
       "Algérie             3402.0   \n",
       "Allemagne           3551.0   \n",
       "\n",
       "                Disponibilités protéines moyennes d’origine animale (g/personne/jour) (moyenne sur 3 ans)  \\\n",
       "Zone                                                                                                        \n",
       "Afghanistan                                                  10.7                                           \n",
       "Afrique du Sud                                               36.0                                           \n",
       "Albanie                                                      62.7                                           \n",
       "Algérie                                                      25.6                                           \n",
       "Allemagne                                                    63.0                                           \n",
       "\n",
       "                Disponibilités protéiques moyennes (g/personne/jour) (moyenne sur 3 ans)  \\\n",
       "Zone                                                                                       \n",
       "Afghanistan                                                  55.7                          \n",
       "Afrique du Sud                                               83.7                          \n",
       "Albanie                                                     116.7                          \n",
       "Algérie                                                      92.3                          \n",
       "Allemagne                                                   104.3                          \n",
       "\n",
       "                PIB par habitant, ($ PPA internationaux constants de 2011)  \\\n",
       "Zone                                                                         \n",
       "Afghanistan                                                2058.4            \n",
       "Afrique du Sud                                            12701.3            \n",
       "Albanie                                                   12771.0            \n",
       "Algérie                                                   11737.4            \n",
       "Allemagne                                                 52952.9            \n",
       "\n",
       "                Stabilité politique et absence de violence/terrorisme (indice)  \\\n",
       "Zone                                                                             \n",
       "Afghanistan                                                 -2.80                \n",
       "Afrique du Sud                                              -0.28                \n",
       "Albanie                                                      0.38                \n",
       "Algérie                                                     -0.92                \n",
       "Allemagne                                                    0.59                \n",
       "\n",
       "                rate_prot  ev_2015-2017  \n",
       "Zone                                     \n",
       "Afghanistan          0.19          5.47  \n",
       "Afrique du Sud       0.43          2.93  \n",
       "Albanie              0.54         -0.22  \n",
       "Algérie              0.28          4.18  \n",
       "Allemagne            0.60          1.06  "
      ]
     },
     "execution_count": 20,
     "metadata": {},
     "output_type": "execute_result"
    }
   ],
   "source": [
    "df2017_p = df2017_p.join(pop_p[['ev_2015-2017']])\n",
    "df2017_p.head()"
   ]
  },
  {
   "cell_type": "code",
   "execution_count": null,
   "metadata": {},
   "outputs": [],
   "source": []
  },
  {
   "cell_type": "markdown",
   "metadata": {},
   "source": [
    "### 1.2. Assemblade d'un DF qui donne des infos sur la consomation de Poulet"
   ]
  },
  {
   "cell_type": "code",
   "execution_count": 21,
   "metadata": {
    "scrolled": true
   },
   "outputs": [
    {
     "data": {
      "text/html": [
       "<div>\n",
       "<style scoped>\n",
       "    .dataframe tbody tr th:only-of-type {\n",
       "        vertical-align: middle;\n",
       "    }\n",
       "\n",
       "    .dataframe tbody tr th {\n",
       "        vertical-align: top;\n",
       "    }\n",
       "\n",
       "    .dataframe thead th {\n",
       "        text-align: right;\n",
       "    }\n",
       "</style>\n",
       "<table border=\"1\" class=\"dataframe\">\n",
       "  <thead>\n",
       "    <tr style=\"text-align: right;\">\n",
       "      <th></th>\n",
       "      <th>Code Domaine</th>\n",
       "      <th>Domaine</th>\n",
       "      <th>Code zone</th>\n",
       "      <th>Zone</th>\n",
       "      <th>Code Élément</th>\n",
       "      <th>Élément</th>\n",
       "      <th>Code Produit</th>\n",
       "      <th>Produit</th>\n",
       "      <th>Code année</th>\n",
       "      <th>Année</th>\n",
       "      <th>Unité</th>\n",
       "      <th>Valeur</th>\n",
       "      <th>Symbole</th>\n",
       "      <th>Description du Symbole</th>\n",
       "    </tr>\n",
       "  </thead>\n",
       "  <tbody>\n",
       "    <tr>\n",
       "      <th>0</th>\n",
       "      <td>FBS</td>\n",
       "      <td>Bilans Alimentaires (2010-)</td>\n",
       "      <td>2</td>\n",
       "      <td>Afghanistan</td>\n",
       "      <td>5511</td>\n",
       "      <td>Production</td>\n",
       "      <td>2734</td>\n",
       "      <td>Viande de Volailles</td>\n",
       "      <td>2017</td>\n",
       "      <td>2017</td>\n",
       "      <td>Milliers de tonnes</td>\n",
       "      <td>28</td>\n",
       "      <td>Im</td>\n",
       "      <td>Données de la FAO basées sur une méthodologie ...</td>\n",
       "    </tr>\n",
       "    <tr>\n",
       "      <th>1</th>\n",
       "      <td>FBS</td>\n",
       "      <td>Bilans Alimentaires (2010-)</td>\n",
       "      <td>2</td>\n",
       "      <td>Afghanistan</td>\n",
       "      <td>5611</td>\n",
       "      <td>Importations - Quantité</td>\n",
       "      <td>2734</td>\n",
       "      <td>Viande de Volailles</td>\n",
       "      <td>2017</td>\n",
       "      <td>2017</td>\n",
       "      <td>Milliers de tonnes</td>\n",
       "      <td>29</td>\n",
       "      <td>Im</td>\n",
       "      <td>Données de la FAO basées sur une méthodologie ...</td>\n",
       "    </tr>\n",
       "    <tr>\n",
       "      <th>2</th>\n",
       "      <td>FBS</td>\n",
       "      <td>Bilans Alimentaires (2010-)</td>\n",
       "      <td>2</td>\n",
       "      <td>Afghanistan</td>\n",
       "      <td>5301</td>\n",
       "      <td>Disponibilité intérieure</td>\n",
       "      <td>2734</td>\n",
       "      <td>Viande de Volailles</td>\n",
       "      <td>2017</td>\n",
       "      <td>2017</td>\n",
       "      <td>Milliers de tonnes</td>\n",
       "      <td>64</td>\n",
       "      <td>S</td>\n",
       "      <td>Données standardisées</td>\n",
       "    </tr>\n",
       "  </tbody>\n",
       "</table>\n",
       "</div>"
      ],
      "text/plain": [
       "  Code Domaine                      Domaine  Code zone         Zone  \\\n",
       "0          FBS  Bilans Alimentaires (2010-)          2  Afghanistan   \n",
       "1          FBS  Bilans Alimentaires (2010-)          2  Afghanistan   \n",
       "2          FBS  Bilans Alimentaires (2010-)          2  Afghanistan   \n",
       "\n",
       "   Code Élément                   Élément  Code Produit              Produit  \\\n",
       "0          5511                Production          2734  Viande de Volailles   \n",
       "1          5611   Importations - Quantité          2734  Viande de Volailles   \n",
       "2          5301  Disponibilité intérieure          2734  Viande de Volailles   \n",
       "\n",
       "   Code année  Année               Unité  Valeur Symbole  \\\n",
       "0        2017   2017  Milliers de tonnes      28      Im   \n",
       "1        2017   2017  Milliers de tonnes      29      Im   \n",
       "2        2017   2017  Milliers de tonnes      64       S   \n",
       "\n",
       "                              Description du Symbole  \n",
       "0  Données de la FAO basées sur une méthodologie ...  \n",
       "1  Données de la FAO basées sur une méthodologie ...  \n",
       "2                              Données standardisées  "
      ]
     },
     "execution_count": 21,
     "metadata": {},
     "output_type": "execute_result"
    }
   ],
   "source": [
    "df_chick.head(3)"
   ]
  },
  {
   "cell_type": "code",
   "execution_count": 22,
   "metadata": {},
   "outputs": [
    {
     "name": "stdout",
     "output_type": "stream",
     "text": [
      "c'est une clé unique\n"
     ]
    }
   ],
   "source": [
    "#fonction tester si clé est primaire ds une table\n",
    "def testClePrim(df, column):\n",
    "    if len(df) != len(df[column].drop_duplicates()):\n",
    "        print(\"ce n'est pas une clé unique\")\n",
    "    else : print(\"c'est une clé unique\")\n",
    "\n",
    "testClePrim(df_chick, ['Zone', 'Élément'])"
   ]
  },
  {
   "cell_type": "code",
   "execution_count": 23,
   "metadata": {},
   "outputs": [
    {
     "name": "stdout",
     "output_type": "stream",
     "text": [
      "pas de doublons\n"
     ]
    }
   ],
   "source": [
    "#recherche de potentiels duplicates du fichier pop_p\n",
    "df_chick.duplicated(keep=False)\n",
    "if 'True' in (df_chick.duplicated(subset=['Zone','Valeur'],keep=False)):\n",
    "    print('présence un doublon')\n",
    "else:\n",
    "    print('pas de doublons') "
   ]
  },
  {
   "cell_type": "code",
   "execution_count": 24,
   "metadata": {
    "scrolled": true
   },
   "outputs": [
    {
     "data": {
      "text/html": [
       "<div>\n",
       "<style scoped>\n",
       "    .dataframe tbody tr th:only-of-type {\n",
       "        vertical-align: middle;\n",
       "    }\n",
       "\n",
       "    .dataframe tbody tr th {\n",
       "        vertical-align: top;\n",
       "    }\n",
       "\n",
       "    .dataframe thead th {\n",
       "        text-align: right;\n",
       "    }\n",
       "</style>\n",
       "<table border=\"1\" class=\"dataframe\">\n",
       "  <thead>\n",
       "    <tr style=\"text-align: right;\">\n",
       "      <th></th>\n",
       "      <th>Élément</th>\n",
       "      <th>Unité</th>\n",
       "    </tr>\n",
       "  </thead>\n",
       "  <tbody>\n",
       "    <tr>\n",
       "      <th>0</th>\n",
       "      <td>Production</td>\n",
       "      <td>Milliers de tonnes</td>\n",
       "    </tr>\n",
       "    <tr>\n",
       "      <th>1</th>\n",
       "      <td>Importations - Quantité</td>\n",
       "      <td>Milliers de tonnes</td>\n",
       "    </tr>\n",
       "    <tr>\n",
       "      <th>2</th>\n",
       "      <td>Disponibilité intérieure</td>\n",
       "      <td>Milliers de tonnes</td>\n",
       "    </tr>\n",
       "    <tr>\n",
       "      <th>3</th>\n",
       "      <td>Disponibilité alimentaire (Kcal/personne/jour)</td>\n",
       "      <td>Kcal/personne/jour</td>\n",
       "    </tr>\n",
       "  </tbody>\n",
       "</table>\n",
       "</div>"
      ],
      "text/plain": [
       "                                          Élément               Unité\n",
       "0                                      Production  Milliers de tonnes\n",
       "1                         Importations - Quantité  Milliers de tonnes\n",
       "2                        Disponibilité intérieure  Milliers de tonnes\n",
       "3  Disponibilité alimentaire (Kcal/personne/jour)  Kcal/personne/jour"
      ]
     },
     "execution_count": 24,
     "metadata": {},
     "output_type": "execute_result"
    }
   ],
   "source": [
    "# test : unités\n",
    "df_chick[['Élément', 'Unité']].drop_duplicates()"
   ]
  },
  {
   "cell_type": "code",
   "execution_count": 25,
   "metadata": {},
   "outputs": [],
   "source": [
    "# multi index\n",
    "#df3['Valeur'] = df3['Valeur'].str.replace('<0.1','0.05')\n",
    "df_chick['Valeur'] = pd.to_numeric(df_chick['Valeur']) \n",
    "#df2017['Valeur'] = df2017['Valeur']*1e3\n",
    "#df2017['Valeur'].describe()\n",
    "df_chick_p = df_chick.pivot_table(index = ['Zone'], values = 'Valeur', columns = 'Élément')"
   ]
  },
  {
   "cell_type": "code",
   "execution_count": 26,
   "metadata": {},
   "outputs": [
    {
     "data": {
      "text/html": [
       "<div>\n",
       "<style scoped>\n",
       "    .dataframe tbody tr th:only-of-type {\n",
       "        vertical-align: middle;\n",
       "    }\n",
       "\n",
       "    .dataframe tbody tr th {\n",
       "        vertical-align: top;\n",
       "    }\n",
       "\n",
       "    .dataframe thead th {\n",
       "        text-align: right;\n",
       "    }\n",
       "</style>\n",
       "<table border=\"1\" class=\"dataframe\">\n",
       "  <thead>\n",
       "    <tr style=\"text-align: right;\">\n",
       "      <th>Élément</th>\n",
       "      <th>Disponibilité alimentaire (Kcal/personne/jour)</th>\n",
       "      <th>Disponibilité intérieure</th>\n",
       "      <th>Importations - Quantité</th>\n",
       "      <th>Production</th>\n",
       "    </tr>\n",
       "    <tr>\n",
       "      <th>Zone</th>\n",
       "      <th></th>\n",
       "      <th></th>\n",
       "      <th></th>\n",
       "      <th></th>\n",
       "    </tr>\n",
       "  </thead>\n",
       "  <tbody>\n",
       "    <tr>\n",
       "      <th>Afghanistan</th>\n",
       "      <td>6.0</td>\n",
       "      <td>64.0</td>\n",
       "      <td>29.0</td>\n",
       "      <td>28.0</td>\n",
       "    </tr>\n",
       "    <tr>\n",
       "      <th>Afrique du Sud</th>\n",
       "      <td>149.0</td>\n",
       "      <td>2110.0</td>\n",
       "      <td>514.0</td>\n",
       "      <td>1665.0</td>\n",
       "    </tr>\n",
       "    <tr>\n",
       "      <th>Albanie</th>\n",
       "      <td>59.0</td>\n",
       "      <td>33.0</td>\n",
       "      <td>20.0</td>\n",
       "      <td>13.0</td>\n",
       "    </tr>\n",
       "    <tr>\n",
       "      <th>Algérie</th>\n",
       "      <td>24.0</td>\n",
       "      <td>286.0</td>\n",
       "      <td>2.0</td>\n",
       "      <td>284.0</td>\n",
       "    </tr>\n",
       "    <tr>\n",
       "      <th>Allemagne</th>\n",
       "      <td>67.0</td>\n",
       "      <td>1557.0</td>\n",
       "      <td>842.0</td>\n",
       "      <td>1514.0</td>\n",
       "    </tr>\n",
       "  </tbody>\n",
       "</table>\n",
       "</div>"
      ],
      "text/plain": [
       "Élément         Disponibilité alimentaire (Kcal/personne/jour)  \\\n",
       "Zone                                                             \n",
       "Afghanistan                                                6.0   \n",
       "Afrique du Sud                                           149.0   \n",
       "Albanie                                                   59.0   \n",
       "Algérie                                                   24.0   \n",
       "Allemagne                                                 67.0   \n",
       "\n",
       "Élément         Disponibilité intérieure  Importations - Quantité  Production  \n",
       "Zone                                                                           \n",
       "Afghanistan                         64.0                     29.0        28.0  \n",
       "Afrique du Sud                    2110.0                    514.0      1665.0  \n",
       "Albanie                             33.0                     20.0        13.0  \n",
       "Algérie                            286.0                      2.0       284.0  \n",
       "Allemagne                         1557.0                    842.0      1514.0  "
      ]
     },
     "execution_count": 26,
     "metadata": {},
     "output_type": "execute_result"
    }
   ],
   "source": [
    "df_chick_p.head()"
   ]
  },
  {
   "cell_type": "code",
   "execution_count": 27,
   "metadata": {},
   "outputs": [
    {
     "data": {
      "text/html": [
       "<div>\n",
       "<style scoped>\n",
       "    .dataframe tbody tr th:only-of-type {\n",
       "        vertical-align: middle;\n",
       "    }\n",
       "\n",
       "    .dataframe tbody tr th {\n",
       "        vertical-align: top;\n",
       "    }\n",
       "\n",
       "    .dataframe thead th {\n",
       "        text-align: right;\n",
       "    }\n",
       "</style>\n",
       "<table border=\"1\" class=\"dataframe\">\n",
       "  <thead>\n",
       "    <tr style=\"text-align: right;\">\n",
       "      <th></th>\n",
       "      <th>Code Domaine</th>\n",
       "      <th>Domaine</th>\n",
       "      <th>Code zone</th>\n",
       "      <th>Zone</th>\n",
       "      <th>Code Élément</th>\n",
       "      <th>Élément</th>\n",
       "      <th>Code Produit</th>\n",
       "      <th>Produit</th>\n",
       "      <th>Code année</th>\n",
       "      <th>Année</th>\n",
       "      <th>Unité</th>\n",
       "      <th>Valeur</th>\n",
       "      <th>Symbole</th>\n",
       "      <th>Description du Symbole</th>\n",
       "    </tr>\n",
       "  </thead>\n",
       "  <tbody>\n",
       "    <tr>\n",
       "      <th>0</th>\n",
       "      <td>FBS</td>\n",
       "      <td>Bilans Alimentaires (2010-)</td>\n",
       "      <td>2</td>\n",
       "      <td>Afghanistan</td>\n",
       "      <td>664</td>\n",
       "      <td>Disponibilité alimentaire (Kcal/personne/jour)</td>\n",
       "      <td>2511</td>\n",
       "      <td>Blé et produits</td>\n",
       "      <td>2017</td>\n",
       "      <td>2017</td>\n",
       "      <td>Kcal/personne/jour</td>\n",
       "      <td>1404</td>\n",
       "      <td>Fc</td>\n",
       "      <td>Donnée calculée</td>\n",
       "    </tr>\n",
       "    <tr>\n",
       "      <th>1</th>\n",
       "      <td>FBS</td>\n",
       "      <td>Bilans Alimentaires (2010-)</td>\n",
       "      <td>2</td>\n",
       "      <td>Afghanistan</td>\n",
       "      <td>664</td>\n",
       "      <td>Disponibilité alimentaire (Kcal/personne/jour)</td>\n",
       "      <td>2807</td>\n",
       "      <td>Riz et produits</td>\n",
       "      <td>2017</td>\n",
       "      <td>2017</td>\n",
       "      <td>Kcal/personne/jour</td>\n",
       "      <td>181</td>\n",
       "      <td>Fc</td>\n",
       "      <td>Donnée calculée</td>\n",
       "    </tr>\n",
       "    <tr>\n",
       "      <th>2</th>\n",
       "      <td>FBS</td>\n",
       "      <td>Bilans Alimentaires (2010-)</td>\n",
       "      <td>2</td>\n",
       "      <td>Afghanistan</td>\n",
       "      <td>664</td>\n",
       "      <td>Disponibilité alimentaire (Kcal/personne/jour)</td>\n",
       "      <td>2513</td>\n",
       "      <td>Orge et produits</td>\n",
       "      <td>2017</td>\n",
       "      <td>2017</td>\n",
       "      <td>Kcal/personne/jour</td>\n",
       "      <td>14</td>\n",
       "      <td>Fc</td>\n",
       "      <td>Donnée calculée</td>\n",
       "    </tr>\n",
       "  </tbody>\n",
       "</table>\n",
       "</div>"
      ],
      "text/plain": [
       "  Code Domaine                      Domaine  Code zone         Zone  \\\n",
       "0          FBS  Bilans Alimentaires (2010-)          2  Afghanistan   \n",
       "1          FBS  Bilans Alimentaires (2010-)          2  Afghanistan   \n",
       "2          FBS  Bilans Alimentaires (2010-)          2  Afghanistan   \n",
       "\n",
       "   Code Élément                                         Élément  Code Produit  \\\n",
       "0           664  Disponibilité alimentaire (Kcal/personne/jour)          2511   \n",
       "1           664  Disponibilité alimentaire (Kcal/personne/jour)          2807   \n",
       "2           664  Disponibilité alimentaire (Kcal/personne/jour)          2513   \n",
       "\n",
       "            Produit  Code année  Année               Unité  Valeur Symbole  \\\n",
       "0   Blé et produits        2017   2017  Kcal/personne/jour    1404      Fc   \n",
       "1   Riz et produits        2017   2017  Kcal/personne/jour     181      Fc   \n",
       "2  Orge et produits        2017   2017  Kcal/personne/jour      14      Fc   \n",
       "\n",
       "  Description du Symbole  \n",
       "0        Donnée calculée  \n",
       "1        Donnée calculée  \n",
       "2        Donnée calculée  "
      ]
     },
     "execution_count": 27,
     "metadata": {},
     "output_type": "execute_result"
    }
   ],
   "source": [
    "global_diet.head(3)"
   ]
  },
  {
   "cell_type": "code",
   "execution_count": 28,
   "metadata": {},
   "outputs": [
    {
     "name": "stdout",
     "output_type": "stream",
     "text": [
      "c'est une clé unique\n"
     ]
    }
   ],
   "source": [
    "#fonction tester si clé est primaire ds une table\n",
    "def testClePrim(df, column):\n",
    "    if len(df) != len(df[column].drop_duplicates()):\n",
    "        print(\"ce n'est pas une clé unique\")\n",
    "    else : print(\"c'est une clé unique\")\n",
    "\n",
    "testClePrim(global_diet, ['Zone', 'Produit'])"
   ]
  },
  {
   "cell_type": "code",
   "execution_count": 29,
   "metadata": {},
   "outputs": [
    {
     "data": {
      "text/html": [
       "<div>\n",
       "<style scoped>\n",
       "    .dataframe tbody tr th:only-of-type {\n",
       "        vertical-align: middle;\n",
       "    }\n",
       "\n",
       "    .dataframe tbody tr th {\n",
       "        vertical-align: top;\n",
       "    }\n",
       "\n",
       "    .dataframe thead th {\n",
       "        text-align: right;\n",
       "    }\n",
       "</style>\n",
       "<table border=\"1\" class=\"dataframe\">\n",
       "  <thead>\n",
       "    <tr style=\"text-align: right;\">\n",
       "      <th>Élément</th>\n",
       "      <th>Disponibilité alimentaire (Kcal/personne/jour)</th>\n",
       "    </tr>\n",
       "    <tr>\n",
       "      <th>Zone</th>\n",
       "      <th></th>\n",
       "    </tr>\n",
       "  </thead>\n",
       "  <tbody>\n",
       "    <tr>\n",
       "      <th>Afghanistan</th>\n",
       "      <td>2303</td>\n",
       "    </tr>\n",
       "    <tr>\n",
       "      <th>Afrique du Sud</th>\n",
       "      <td>2896</td>\n",
       "    </tr>\n",
       "    <tr>\n",
       "      <th>Albanie</th>\n",
       "      <td>3324</td>\n",
       "    </tr>\n",
       "  </tbody>\n",
       "</table>\n",
       "</div>"
      ],
      "text/plain": [
       "Élément         Disponibilité alimentaire (Kcal/personne/jour)\n",
       "Zone                                                          \n",
       "Afghanistan                                               2303\n",
       "Afrique du Sud                                            2896\n",
       "Albanie                                                   3324"
      ]
     },
     "execution_count": 29,
     "metadata": {},
     "output_type": "execute_result"
    }
   ],
   "source": [
    "glo_diet_p = global_diet.pivot_table(index = 'Zone', values = 'Valeur', columns = 'Élément', aggfunc=sum)\n",
    "glo_diet_p.head(3)"
   ]
  },
  {
   "cell_type": "code",
   "execution_count": 30,
   "metadata": {},
   "outputs": [],
   "source": [
    "#On ajoute la colonne disponibilité alimentaire globale nationale au df chicken\n",
    "diet_df = pd.merge(glo_diet_p, \n",
    "                              df_chick_p, \n",
    "                              on = 'Zone', \n",
    "                              how = 'left'\n",
    "                             )"
   ]
  },
  {
   "cell_type": "code",
   "execution_count": 31,
   "metadata": {},
   "outputs": [
    {
     "data": {
      "text/html": [
       "<div>\n",
       "<style scoped>\n",
       "    .dataframe tbody tr th:only-of-type {\n",
       "        vertical-align: middle;\n",
       "    }\n",
       "\n",
       "    .dataframe tbody tr th {\n",
       "        vertical-align: top;\n",
       "    }\n",
       "\n",
       "    .dataframe thead th {\n",
       "        text-align: right;\n",
       "    }\n",
       "</style>\n",
       "<table border=\"1\" class=\"dataframe\">\n",
       "  <thead>\n",
       "    <tr style=\"text-align: right;\">\n",
       "      <th>Élément</th>\n",
       "      <th>Disponibilité alimentaire (Kcal/personne/jour)_x</th>\n",
       "      <th>Disponibilité alimentaire (Kcal/personne/jour)_y</th>\n",
       "      <th>Disponibilité intérieure</th>\n",
       "      <th>Importations - Quantité</th>\n",
       "      <th>Production</th>\n",
       "    </tr>\n",
       "    <tr>\n",
       "      <th>Zone</th>\n",
       "      <th></th>\n",
       "      <th></th>\n",
       "      <th></th>\n",
       "      <th></th>\n",
       "      <th></th>\n",
       "    </tr>\n",
       "  </thead>\n",
       "  <tbody>\n",
       "    <tr>\n",
       "      <th>Afghanistan</th>\n",
       "      <td>2303</td>\n",
       "      <td>6.0</td>\n",
       "      <td>64.0</td>\n",
       "      <td>29.0</td>\n",
       "      <td>28.0</td>\n",
       "    </tr>\n",
       "    <tr>\n",
       "      <th>Afrique du Sud</th>\n",
       "      <td>2896</td>\n",
       "      <td>149.0</td>\n",
       "      <td>2110.0</td>\n",
       "      <td>514.0</td>\n",
       "      <td>1665.0</td>\n",
       "    </tr>\n",
       "    <tr>\n",
       "      <th>Albanie</th>\n",
       "      <td>3324</td>\n",
       "      <td>59.0</td>\n",
       "      <td>33.0</td>\n",
       "      <td>20.0</td>\n",
       "      <td>13.0</td>\n",
       "    </tr>\n",
       "    <tr>\n",
       "      <th>Algérie</th>\n",
       "      <td>3380</td>\n",
       "      <td>24.0</td>\n",
       "      <td>286.0</td>\n",
       "      <td>2.0</td>\n",
       "      <td>284.0</td>\n",
       "    </tr>\n",
       "    <tr>\n",
       "      <th>Allemagne</th>\n",
       "      <td>3545</td>\n",
       "      <td>67.0</td>\n",
       "      <td>1557.0</td>\n",
       "      <td>842.0</td>\n",
       "      <td>1514.0</td>\n",
       "    </tr>\n",
       "  </tbody>\n",
       "</table>\n",
       "</div>"
      ],
      "text/plain": [
       "Élément         Disponibilité alimentaire (Kcal/personne/jour)_x  \\\n",
       "Zone                                                               \n",
       "Afghanistan                                                 2303   \n",
       "Afrique du Sud                                              2896   \n",
       "Albanie                                                     3324   \n",
       "Algérie                                                     3380   \n",
       "Allemagne                                                   3545   \n",
       "\n",
       "Élément         Disponibilité alimentaire (Kcal/personne/jour)_y  \\\n",
       "Zone                                                               \n",
       "Afghanistan                                                  6.0   \n",
       "Afrique du Sud                                             149.0   \n",
       "Albanie                                                     59.0   \n",
       "Algérie                                                     24.0   \n",
       "Allemagne                                                   67.0   \n",
       "\n",
       "Élément         Disponibilité intérieure  Importations - Quantité  Production  \n",
       "Zone                                                                           \n",
       "Afghanistan                         64.0                     29.0        28.0  \n",
       "Afrique du Sud                    2110.0                    514.0      1665.0  \n",
       "Albanie                             33.0                     20.0        13.0  \n",
       "Algérie                            286.0                      2.0       284.0  \n",
       "Allemagne                         1557.0                    842.0      1514.0  "
      ]
     },
     "execution_count": 31,
     "metadata": {},
     "output_type": "execute_result"
    }
   ],
   "source": [
    "diet_df.head()"
   ]
  },
  {
   "cell_type": "code",
   "execution_count": 32,
   "metadata": {},
   "outputs": [],
   "source": [
    "#on calcule le taux de Poulet disponible comme reflet du régime alimentaire\n",
    "diet_df['chick_rate'] = (diet_df['Disponibilité alimentaire (Kcal/personne/jour)_y']\\\n",
    "                         /diet_df['Disponibilité alimentaire (Kcal/personne/jour)_x']*100)\\\n",
    ".round(decimals=2)"
   ]
  },
  {
   "cell_type": "code",
   "execution_count": 33,
   "metadata": {},
   "outputs": [
    {
     "data": {
      "text/html": [
       "<div>\n",
       "<style scoped>\n",
       "    .dataframe tbody tr th:only-of-type {\n",
       "        vertical-align: middle;\n",
       "    }\n",
       "\n",
       "    .dataframe tbody tr th {\n",
       "        vertical-align: top;\n",
       "    }\n",
       "\n",
       "    .dataframe thead th {\n",
       "        text-align: right;\n",
       "    }\n",
       "</style>\n",
       "<table border=\"1\" class=\"dataframe\">\n",
       "  <thead>\n",
       "    <tr style=\"text-align: right;\">\n",
       "      <th>Élément</th>\n",
       "      <th>Disponibilité alimentaire (Kcal/personne/jour)_x</th>\n",
       "      <th>Disponibilité alimentaire (Kcal/personne/jour)_y</th>\n",
       "      <th>Disponibilité intérieure</th>\n",
       "      <th>Importations - Quantité</th>\n",
       "      <th>Production</th>\n",
       "      <th>chick_rate</th>\n",
       "      <th>chick_import_rate</th>\n",
       "    </tr>\n",
       "    <tr>\n",
       "      <th>Zone</th>\n",
       "      <th></th>\n",
       "      <th></th>\n",
       "      <th></th>\n",
       "      <th></th>\n",
       "      <th></th>\n",
       "      <th></th>\n",
       "      <th></th>\n",
       "    </tr>\n",
       "  </thead>\n",
       "  <tbody>\n",
       "    <tr>\n",
       "      <th>Afghanistan</th>\n",
       "      <td>2303</td>\n",
       "      <td>6.0</td>\n",
       "      <td>64.0</td>\n",
       "      <td>29.0</td>\n",
       "      <td>28.0</td>\n",
       "      <td>0.26</td>\n",
       "      <td>45.31</td>\n",
       "    </tr>\n",
       "    <tr>\n",
       "      <th>Afrique du Sud</th>\n",
       "      <td>2896</td>\n",
       "      <td>149.0</td>\n",
       "      <td>2110.0</td>\n",
       "      <td>514.0</td>\n",
       "      <td>1665.0</td>\n",
       "      <td>5.15</td>\n",
       "      <td>24.36</td>\n",
       "    </tr>\n",
       "    <tr>\n",
       "      <th>Albanie</th>\n",
       "      <td>3324</td>\n",
       "      <td>59.0</td>\n",
       "      <td>33.0</td>\n",
       "      <td>20.0</td>\n",
       "      <td>13.0</td>\n",
       "      <td>1.77</td>\n",
       "      <td>60.61</td>\n",
       "    </tr>\n",
       "    <tr>\n",
       "      <th>Algérie</th>\n",
       "      <td>3380</td>\n",
       "      <td>24.0</td>\n",
       "      <td>286.0</td>\n",
       "      <td>2.0</td>\n",
       "      <td>284.0</td>\n",
       "      <td>0.71</td>\n",
       "      <td>0.70</td>\n",
       "    </tr>\n",
       "    <tr>\n",
       "      <th>Allemagne</th>\n",
       "      <td>3545</td>\n",
       "      <td>67.0</td>\n",
       "      <td>1557.0</td>\n",
       "      <td>842.0</td>\n",
       "      <td>1514.0</td>\n",
       "      <td>1.89</td>\n",
       "      <td>54.08</td>\n",
       "    </tr>\n",
       "  </tbody>\n",
       "</table>\n",
       "</div>"
      ],
      "text/plain": [
       "Élément         Disponibilité alimentaire (Kcal/personne/jour)_x  \\\n",
       "Zone                                                               \n",
       "Afghanistan                                                 2303   \n",
       "Afrique du Sud                                              2896   \n",
       "Albanie                                                     3324   \n",
       "Algérie                                                     3380   \n",
       "Allemagne                                                   3545   \n",
       "\n",
       "Élément         Disponibilité alimentaire (Kcal/personne/jour)_y  \\\n",
       "Zone                                                               \n",
       "Afghanistan                                                  6.0   \n",
       "Afrique du Sud                                             149.0   \n",
       "Albanie                                                     59.0   \n",
       "Algérie                                                     24.0   \n",
       "Allemagne                                                   67.0   \n",
       "\n",
       "Élément         Disponibilité intérieure  Importations - Quantité  Production  \\\n",
       "Zone                                                                            \n",
       "Afghanistan                         64.0                     29.0        28.0   \n",
       "Afrique du Sud                    2110.0                    514.0      1665.0   \n",
       "Albanie                             33.0                     20.0        13.0   \n",
       "Algérie                            286.0                      2.0       284.0   \n",
       "Allemagne                         1557.0                    842.0      1514.0   \n",
       "\n",
       "Élément         chick_rate  chick_import_rate  \n",
       "Zone                                           \n",
       "Afghanistan           0.26              45.31  \n",
       "Afrique du Sud        5.15              24.36  \n",
       "Albanie               1.77              60.61  \n",
       "Algérie               0.71               0.70  \n",
       "Allemagne             1.89              54.08  "
      ]
     },
     "execution_count": 33,
     "metadata": {},
     "output_type": "execute_result"
    }
   ],
   "source": [
    "#on calcule aussi taux d'importation de Poulet comme possible reflet du régime alimentaire\n",
    "diet_df['chick_import_rate'] = (diet_df['Importations - Quantité']\\\n",
    "                         /diet_df['Disponibilité intérieure']*100)\\\n",
    ".round(decimals=2)\n",
    "diet_df.head()"
   ]
  },
  {
   "cell_type": "code",
   "execution_count": 34,
   "metadata": {},
   "outputs": [
    {
     "data": {
      "text/plain": [
       "(180, 7)"
      ]
     },
     "execution_count": 34,
     "metadata": {},
     "output_type": "execute_result"
    }
   ],
   "source": [
    "diet_df.shape"
   ]
  },
  {
   "cell_type": "markdown",
   "metadata": {},
   "source": [
    "### 1.3. Merge du DF relatif au régime alimentaire dans le le DF prinicipal"
   ]
  },
  {
   "cell_type": "code",
   "execution_count": 35,
   "metadata": {},
   "outputs": [
    {
     "data": {
      "text/plain": [
       "((201, 7), (180, 7))"
      ]
     },
     "execution_count": 35,
     "metadata": {},
     "output_type": "execute_result"
    }
   ],
   "source": [
    "#comparaison des df\n",
    "df2017_p.shape, diet_df.shape"
   ]
  },
  {
   "cell_type": "code",
   "execution_count": 36,
   "metadata": {},
   "outputs": [
    {
     "data": {
      "text/plain": [
       "21"
      ]
     },
     "execution_count": 36,
     "metadata": {},
     "output_type": "execute_result"
    }
   ],
   "source": [
    "#il y a 21 pays perdus dans le df du régime alimentaire\n",
    "len(df2017_p.index) - len(diet_df.index)"
   ]
  },
  {
   "cell_type": "code",
   "execution_count": 37,
   "metadata": {},
   "outputs": [
    {
     "data": {
      "text/plain": [
       "array(['Andorre', 'Bahreïn', 'Bermudes', 'Bhoutan', 'Brunéi Darussalam',\n",
       "       'Groenland', 'Guinée équatoriale', 'Micronésie (États fédérés de)',\n",
       "       'Nauru', 'Palaos', 'Palestine', 'Porto Rico', 'Qatar',\n",
       "       'Samoa américaines', 'Singapour', 'Somalie', 'Soudan du Sud',\n",
       "       'Tonga', 'Tuvalu', 'Érythrée', 'Îles Marshall'], dtype=object)"
      ]
     },
     "execution_count": 37,
     "metadata": {},
     "output_type": "execute_result"
    }
   ],
   "source": [
    "#quels pays de df2017_p ne sont PAS dans diet_df?\n",
    "np.setdiff1d(df2017_p.index,diet_df.index)"
   ]
  },
  {
   "cell_type": "code",
   "execution_count": 38,
   "metadata": {},
   "outputs": [
    {
     "data": {
      "text/plain": [
       "array([], dtype=object)"
      ]
     },
     "execution_count": 38,
     "metadata": {},
     "output_type": "execute_result"
    }
   ],
   "source": [
    "#quels pays de diet_df ne sont PAS dans df2017?\n",
    "np.setdiff1d(diet_df.index,df2017_p.index)"
   ]
  },
  {
   "cell_type": "markdown",
   "metadata": {},
   "source": [
    "#### => On fait un join gauche de manière à ne pas perdre de pays du DF principal (df2017_p), pour les NAN qui seront engendrés, on les traitera"
   ]
  },
  {
   "cell_type": "code",
   "execution_count": 39,
   "metadata": {},
   "outputs": [],
   "source": [
    "# On fait un join gauche pour ajouter la ver évolution de la population et garder les pays du df principal\n",
    "glo_df2017 = df2017_p[[\"dispo_alim\",\\\n",
    "                       'PIB par habitant, ($ PPA internationaux constants de 2011)',\\\n",
    "                       'Stabilité politique et absence de violence/terrorisme (indice)',\\\n",
    "                       'rate_prot',\\\n",
    "                      'ev_2015-2017']]\\\n",
    "            .join(diet_df[['chick_rate']])"
   ]
  },
  {
   "cell_type": "code",
   "execution_count": 40,
   "metadata": {
    "scrolled": true
   },
   "outputs": [
    {
     "data": {
      "text/plain": [
       "(201, 6)"
      ]
     },
     "execution_count": 40,
     "metadata": {},
     "output_type": "execute_result"
    }
   ],
   "source": [
    "glo_df2017.shape"
   ]
  },
  {
   "cell_type": "code",
   "execution_count": 41,
   "metadata": {},
   "outputs": [
    {
     "data": {
      "text/plain": [
       "dispo_alim                                                        21\n",
       "PIB par habitant, ($ PPA internationaux constants de 2011)        14\n",
       "Stabilité politique et absence de violence/terrorisme (indice)     4\n",
       "rate_prot                                                         28\n",
       "ev_2015-2017                                                       0\n",
       "chick_rate                                                        21\n",
       "dtype: int64"
      ]
     },
     "execution_count": 41,
     "metadata": {},
     "output_type": "execute_result"
    }
   ],
   "source": [
    "glo_df2017.isnull().sum()"
   ]
  },
  {
   "cell_type": "code",
   "execution_count": 42,
   "metadata": {},
   "outputs": [],
   "source": [
    "# on remplace les NAN par la moyenne de la variable\n",
    "for col in glo_df2017.columns :\n",
    "    glo_df2017[col].fillna(glo_df2017[col].mean(), inplace=True)"
   ]
  },
  {
   "cell_type": "code",
   "execution_count": 43,
   "metadata": {},
   "outputs": [
    {
     "data": {
      "text/plain": [
       "dispo_alim                                                        0\n",
       "PIB par habitant, ($ PPA internationaux constants de 2011)        0\n",
       "Stabilité politique et absence de violence/terrorisme (indice)    0\n",
       "rate_prot                                                         0\n",
       "ev_2015-2017                                                      0\n",
       "chick_rate                                                        0\n",
       "dtype: int64"
      ]
     },
     "execution_count": 43,
     "metadata": {},
     "output_type": "execute_result"
    }
   ],
   "source": [
    "#On teste le résultat\n",
    "glo_df2017.isnull().sum()"
   ]
  },
  {
   "cell_type": "code",
   "execution_count": null,
   "metadata": {},
   "outputs": [],
   "source": []
  },
  {
   "cell_type": "markdown",
   "metadata": {},
   "source": [
    "## **2.1 Clustering**"
   ]
  },
  {
   "cell_type": "markdown",
   "metadata": {},
   "source": [
    "## 2.2 Clustering par dendrogramme \n",
    "source méthode Ward : cours du Pr F. Husson https://www.youtube.com/watch?v=SE_4dLh5vXY, \\\n",
    "source du code https://www.python-graph-gallery.com/400-basic-dendrogram#google_vignette"
   ]
  },
  {
   "cell_type": "code",
   "execution_count": 44,
   "metadata": {},
   "outputs": [
    {
     "data": {
      "image/png": "[encoded data removed]",
      "text/plain": [
       "<Figure size 1008x864 with 1 Axes>"
      ]
     },
     "metadata": {
      "needs_background": "light"
     },
     "output_type": "display_data"
    }
   ],
   "source": [
    "# Calculate the distance between each sample\n",
    "# You have to think about the metric you use (how to measure similarity) + about the method of clusterization you use (How to group)\n",
    "Z = linkage(glo_df2017, 'ward')\n",
    "\n",
    "# Plot title\n",
    "plt.figure(figsize=(14,12))\n",
    "plt.title('Hierarchical Countries Clustering Dendrogram')\n",
    "# Plot axis labels\n",
    "plt.xlabel('sample index')\n",
    "plt.ylabel('distance (Ward)')\n",
    "# Make the dendrogram\n",
    "dendrogram(Z, labels=glo_df2017.index, leaf_rotation=90)\n",
    "# Cutting the dendrogram\n",
    "plt.axhline(y=100000, c='k')\n",
    "# Show the graph\n",
    "plt.show()\n",
    "#plt.savefig(\"\")"
   ]
  },
  {
   "cell_type": "markdown",
   "metadata": {},
   "source": [
    "#### Couper le dedrogramme\n",
    "see https://stackoverflow.com/questions/46869640/alternative-to-scipy-cluster-hierarchy-cut-tree"
   ]
  },
  {
   "cell_type": "code",
   "execution_count": 45,
   "metadata": {},
   "outputs": [],
   "source": [
    "#on coupe le dedondrogramme de manière à n'avoir que 4 groupes\n",
    "clust = fcluster(Z, 4, criterion='maxclust')"
   ]
  },
  {
   "cell_type": "code",
   "execution_count": 46,
   "metadata": {},
   "outputs": [],
   "source": [
    "#On créée un dictionnaire pour mapper les groupes et leur nom de pays\n",
    "#l'axe des abcisses est sample index donc on peut les assembler sans agir sur l'ordre\n",
    "dict_group = {\"Zone\":glo_df2017.index,\n",
    "          \"Groupe\":clust}"
   ]
  },
  {
   "cell_type": "code",
   "execution_count": 47,
   "metadata": {},
   "outputs": [],
   "source": [
    "clust_df = pd.DataFrame(dict_group)\n",
    "#clust_df.to_csv(\"pays_groupes.csv\")"
   ]
  },
  {
   "cell_type": "code",
   "execution_count": null,
   "metadata": {},
   "outputs": [],
   "source": []
  },
  {
   "cell_type": "markdown",
   "metadata": {},
   "source": [
    "#### méthode 'k-means' (hierarchisation 'flat')"
   ]
  },
  {
   "cell_type": "code",
   "execution_count": 48,
   "metadata": {},
   "outputs": [],
   "source": [
    "# On fait une boucle pour évaluer le nombre optimal de groupes dans les données\n",
    "distortions = []\n",
    "K = range(1,10)\n",
    "for k in K:\n",
    "    kmeanModel = KMeans(n_clusters=k)\n",
    "    kmeanModel.fit(glo_df2017)\n",
    "    distortions.append(kmeanModel.inertia_)"
   ]
  },
  {
   "cell_type": "code",
   "execution_count": 49,
   "metadata": {},
   "outputs": [
    {
     "data": {
      "image/png": "[encoded data removed]",
      "text/plain": [
       "<Figure size 576x432 with 1 Axes>"
      ]
     },
     "metadata": {
      "needs_background": "light"
     },
     "output_type": "display_data"
    }
   ],
   "source": [
    "# On plot graphiquement une courbe 'Elbow'\n",
    "plt.figure(figsize=(8,6))\n",
    "plt.plot(K, distortions, 'bx-')\n",
    "plt.xlabel('k')\n",
    "plt.ylabel('Distortion')\n",
    "plt.title('The Elbow Method showing optimal 2<=k<=4')\n",
    "#plt.savefig(\"elbow_for_best_k.png\")\n",
    "plt.show()"
   ]
  },
  {
   "cell_type": "markdown",
   "metadata": {},
   "source": [
    "=> La Courbe Elbow suggère un nombre de groupes optimal entre 2 et 4. Si on compare ce résultat au dendrogramme, on peut décider en tant qu'humain que le 4 est un "
   ]
  },
  {
   "cell_type": "code",
   "execution_count": 50,
   "metadata": {},
   "outputs": [],
   "source": [
    "#on prepare les données et paramètre le modèle k-means\n",
    "data = scale(glo_df2017)\n",
    "model = KMeans(n_clusters = 4, init = 'k-means++', n_init = 10)\n",
    "#On entre les données du DF\n",
    "k_means = model.fit(data)"
   ]
  },
  {
   "cell_type": "code",
   "execution_count": 51,
   "metadata": {},
   "outputs": [
    {
     "data": {
      "text/plain": [
       "1    72\n",
       "2    66\n",
       "0    40\n",
       "3    23\n",
       "Name: cluster, dtype: int64"
      ]
     },
     "execution_count": 51,
     "metadata": {},
     "output_type": "execute_result"
    }
   ],
   "source": [
    "# on sort le label du cluster dans une nouvelle variable\n",
    "glo_df2017['cluster'] = k_means.labels_\n",
    "glo_df2017['cluster'].value_counts()"
   ]
  },
  {
   "cell_type": "code",
   "execution_count": 52,
   "metadata": {},
   "outputs": [
    {
     "data": {
      "text/plain": [
       "dispo_alim                                                        0\n",
       "PIB par habitant, ($ PPA internationaux constants de 2011)        0\n",
       "Stabilité politique et absence de violence/terrorisme (indice)    0\n",
       "rate_prot                                                         0\n",
       "ev_2015-2017                                                      0\n",
       "chick_rate                                                        0\n",
       "cluster                                                           0\n",
       "dtype: int64"
      ]
     },
     "execution_count": 52,
     "metadata": {},
     "output_type": "execute_result"
    }
   ],
   "source": [
    "glo_df2017.isnull().sum()"
   ]
  },
  {
   "cell_type": "markdown",
   "metadata": {},
   "source": [
    "### Position des centroïdes"
   ]
  },
  {
   "cell_type": "code",
   "execution_count": 53,
   "metadata": {},
   "outputs": [
    {
     "data": {
      "text/html": [
       "<div>\n",
       "<style scoped>\n",
       "    .dataframe tbody tr th:only-of-type {\n",
       "        vertical-align: middle;\n",
       "    }\n",
       "\n",
       "    .dataframe tbody tr th {\n",
       "        vertical-align: top;\n",
       "    }\n",
       "\n",
       "    .dataframe thead th {\n",
       "        text-align: right;\n",
       "    }\n",
       "</style>\n",
       "<table border=\"1\" class=\"dataframe\">\n",
       "  <thead>\n",
       "    <tr style=\"text-align: right;\">\n",
       "      <th></th>\n",
       "      <th>dispo_alim</th>\n",
       "      <th>PIB par habitant, ($ PPA internationaux constants de 2011)</th>\n",
       "      <th>Stabilité politique et absence de violence/terrorisme (indice)</th>\n",
       "      <th>rate_prot</th>\n",
       "      <th>ev_2015-2017</th>\n",
       "      <th>chick_rate</th>\n",
       "      <th>cluster</th>\n",
       "    </tr>\n",
       "    <tr>\n",
       "      <th>Zone</th>\n",
       "      <th></th>\n",
       "      <th></th>\n",
       "      <th></th>\n",
       "      <th></th>\n",
       "      <th></th>\n",
       "      <th></th>\n",
       "      <th></th>\n",
       "    </tr>\n",
       "  </thead>\n",
       "  <tbody>\n",
       "    <tr>\n",
       "      <th>Afghanistan</th>\n",
       "      <td>2266.0</td>\n",
       "      <td>2058.4</td>\n",
       "      <td>-2.80</td>\n",
       "      <td>0.19</td>\n",
       "      <td>5.47</td>\n",
       "      <td>0.26</td>\n",
       "      <td>1</td>\n",
       "    </tr>\n",
       "    <tr>\n",
       "      <th>Afrique du Sud</th>\n",
       "      <td>2902.0</td>\n",
       "      <td>12701.3</td>\n",
       "      <td>-0.28</td>\n",
       "      <td>0.43</td>\n",
       "      <td>2.93</td>\n",
       "      <td>5.15</td>\n",
       "      <td>3</td>\n",
       "    </tr>\n",
       "    <tr>\n",
       "      <th>Albanie</th>\n",
       "      <td>3377.0</td>\n",
       "      <td>12771.0</td>\n",
       "      <td>0.38</td>\n",
       "      <td>0.54</td>\n",
       "      <td>-0.22</td>\n",
       "      <td>1.77</td>\n",
       "      <td>2</td>\n",
       "    </tr>\n",
       "    <tr>\n",
       "      <th>Algérie</th>\n",
       "      <td>3402.0</td>\n",
       "      <td>11737.4</td>\n",
       "      <td>-0.92</td>\n",
       "      <td>0.28</td>\n",
       "      <td>4.18</td>\n",
       "      <td>0.71</td>\n",
       "      <td>1</td>\n",
       "    </tr>\n",
       "    <tr>\n",
       "      <th>Allemagne</th>\n",
       "      <td>3551.0</td>\n",
       "      <td>52952.9</td>\n",
       "      <td>0.59</td>\n",
       "      <td>0.60</td>\n",
       "      <td>1.06</td>\n",
       "      <td>1.89</td>\n",
       "      <td>0</td>\n",
       "    </tr>\n",
       "  </tbody>\n",
       "</table>\n",
       "</div>"
      ],
      "text/plain": [
       "                dispo_alim  \\\n",
       "Zone                         \n",
       "Afghanistan         2266.0   \n",
       "Afrique du Sud      2902.0   \n",
       "Albanie             3377.0   \n",
       "Algérie             3402.0   \n",
       "Allemagne           3551.0   \n",
       "\n",
       "                PIB par habitant, ($ PPA internationaux constants de 2011)  \\\n",
       "Zone                                                                         \n",
       "Afghanistan                                                2058.4            \n",
       "Afrique du Sud                                            12701.3            \n",
       "Albanie                                                   12771.0            \n",
       "Algérie                                                   11737.4            \n",
       "Allemagne                                                 52952.9            \n",
       "\n",
       "                Stabilité politique et absence de violence/terrorisme (indice)  \\\n",
       "Zone                                                                             \n",
       "Afghanistan                                                 -2.80                \n",
       "Afrique du Sud                                              -0.28                \n",
       "Albanie                                                      0.38                \n",
       "Algérie                                                     -0.92                \n",
       "Allemagne                                                    0.59                \n",
       "\n",
       "                rate_prot  ev_2015-2017  chick_rate  cluster  \n",
       "Zone                                                          \n",
       "Afghanistan          0.19          5.47        0.26        1  \n",
       "Afrique du Sud       0.43          2.93        5.15        3  \n",
       "Albanie              0.54         -0.22        1.77        2  \n",
       "Algérie              0.28          4.18        0.71        1  \n",
       "Allemagne            0.60          1.06        1.89        0  "
      ]
     },
     "execution_count": 53,
     "metadata": {},
     "output_type": "execute_result"
    }
   ],
   "source": [
    "glo_df2017.head()"
   ]
  },
  {
   "cell_type": "code",
   "execution_count": 54,
   "metadata": {},
   "outputs": [
    {
     "data": {
      "text/html": [
       "<div>\n",
       "<style scoped>\n",
       "    .dataframe tbody tr th:only-of-type {\n",
       "        vertical-align: middle;\n",
       "    }\n",
       "\n",
       "    .dataframe tbody tr th {\n",
       "        vertical-align: top;\n",
       "    }\n",
       "\n",
       "    .dataframe thead th {\n",
       "        text-align: right;\n",
       "    }\n",
       "</style>\n",
       "<table border=\"1\" class=\"dataframe\">\n",
       "  <thead>\n",
       "    <tr style=\"text-align: right;\">\n",
       "      <th></th>\n",
       "      <th>dispo_alim</th>\n",
       "      <th>PIB par habitant, ($ PPA internationaux constants de 2011)</th>\n",
       "      <th>Stabilité politique et absence de violence/terrorisme (indice)</th>\n",
       "      <th>rate_prot</th>\n",
       "      <th>ev_2015-2017</th>\n",
       "      <th>chick_rate</th>\n",
       "    </tr>\n",
       "    <tr>\n",
       "      <th>cluster</th>\n",
       "      <th></th>\n",
       "      <th></th>\n",
       "      <th></th>\n",
       "      <th></th>\n",
       "      <th></th>\n",
       "      <th></th>\n",
       "    </tr>\n",
       "  </thead>\n",
       "  <tbody>\n",
       "    <tr>\n",
       "      <th>0</th>\n",
       "      <td>3337.210833</td>\n",
       "      <td>54933.772500</td>\n",
       "      <td>0.820250</td>\n",
       "      <td>0.571051</td>\n",
       "      <td>1.378250</td>\n",
       "      <td>2.928728</td>\n",
       "    </tr>\n",
       "    <tr>\n",
       "      <th>3</th>\n",
       "      <td>2866.478261</td>\n",
       "      <td>19136.388979</td>\n",
       "      <td>0.348976</td>\n",
       "      <td>0.553913</td>\n",
       "      <td>1.807826</td>\n",
       "      <td>6.666087</td>\n",
       "    </tr>\n",
       "    <tr>\n",
       "      <th>2</th>\n",
       "      <td>2975.695118</td>\n",
       "      <td>16123.058070</td>\n",
       "      <td>0.029492</td>\n",
       "      <td>0.439471</td>\n",
       "      <td>0.947273</td>\n",
       "      <td>2.377040</td>\n",
       "    </tr>\n",
       "    <tr>\n",
       "      <th>1</th>\n",
       "      <td>2484.371142</td>\n",
       "      <td>6574.108980</td>\n",
       "      <td>-0.766667</td>\n",
       "      <td>0.283848</td>\n",
       "      <td>4.940694</td>\n",
       "      <td>1.091932</td>\n",
       "    </tr>\n",
       "  </tbody>\n",
       "</table>\n",
       "</div>"
      ],
      "text/plain": [
       "          dispo_alim  \\\n",
       "cluster                \n",
       "0        3337.210833   \n",
       "3        2866.478261   \n",
       "2        2975.695118   \n",
       "1        2484.371142   \n",
       "\n",
       "         PIB par habitant, ($ PPA internationaux constants de 2011)  \\\n",
       "cluster                                                               \n",
       "0                                             54933.772500            \n",
       "3                                             19136.388979            \n",
       "2                                             16123.058070            \n",
       "1                                              6574.108980            \n",
       "\n",
       "         Stabilité politique et absence de violence/terrorisme (indice)  \\\n",
       "cluster                                                                   \n",
       "0                                                 0.820250                \n",
       "3                                                 0.348976                \n",
       "2                                                 0.029492                \n",
       "1                                                -0.766667                \n",
       "\n",
       "         rate_prot  ev_2015-2017  chick_rate  \n",
       "cluster                                       \n",
       "0         0.571051      1.378250    2.928728  \n",
       "3         0.553913      1.807826    6.666087  \n",
       "2         0.439471      0.947273    2.377040  \n",
       "1         0.283848      4.940694    1.091932  "
      ]
     },
     "execution_count": 54,
     "metadata": {},
     "output_type": "execute_result"
    }
   ],
   "source": [
    "#position des centroïdes dans un espace à 6 dimensions\n",
    "coord_center = glo_df2017.groupby('cluster').mean()\\\n",
    ".sort_values('PIB par habitant, ($ PPA internationaux constants de 2011)', ascending=False)\n",
    "coord_center#.index[0]\n",
    "#coord_center.to_csv('coord_cluster_kmeans.csv')"
   ]
  },
  {
   "cell_type": "code",
   "execution_count": 55,
   "metadata": {},
   "outputs": [
    {
     "data": {
      "text/plain": [
       "Index(['Australie', 'États-Unis d'Amérique', 'Chine - RAS de Hong-Kong',\n",
       "       'Canada', 'Chine - RAS de Macao'],\n",
       "      dtype='object', name='Zone')"
      ]
     },
     "execution_count": 55,
     "metadata": {},
     "output_type": "execute_result"
    }
   ],
   "source": [
    "#à partir de la position des centroïdes, on choisit le cluster ayant le PIB le plus élevé\n",
    "#et on filtre sur les pays stables politiquement\n",
    "#au sein du cluster filtré, on choisit le Top 5 de ceux qui consomment le plus de poulet\n",
    "glo_df2017.loc[(glo_df2017['cluster'] == coord_center.index[0]) & (glo_df2017['Stabilité politique et absence de violence/terrorisme (indice)'] >= 0)].sort_values(\\\n",
    "                                                       by=['chick_rate']\\\n",
    "                                                       , ascending=False).head(5).index"
   ]
  },
  {
   "cell_type": "markdown",
   "metadata": {},
   "source": [
    "=> On trouve l'Australie, les US, Hong Kong, le Canada et Macao"
   ]
  },
  {
   "cell_type": "markdown",
   "metadata": {},
   "source": [
    "## **2.3. Projection des donées par PCA**"
   ]
  },
  {
   "cell_type": "markdown",
   "metadata": {},
   "source": [
    "### 2.3.1. Comment sont distribuées les variables qui serviront pour l'ACP"
   ]
  },
  {
   "cell_type": "code",
   "execution_count": 56,
   "metadata": {},
   "outputs": [
    {
     "data": {
      "text/plain": [
       "<seaborn.axisgrid.PairGrid at 0x7f2507b63fd0>"
      ]
     },
     "execution_count": 56,
     "metadata": {},
     "output_type": "execute_result"
    },
    {
     "data": {
      "image/png": "[encoded data removed]",
      "text/plain": [
       "<Figure size 540x540 with 12 Axes>"
      ]
     },
     "metadata": {
      "needs_background": "light"
     },
     "output_type": "display_data"
    }
   ],
   "source": [
    "#on procède par sondage : on étudie 3 var qui semblent particulièrement d'intérêt pour la problématique\n",
    "sns.pairplot(glo_df2017[[\"dispo_alim\",\\\n",
    "'ev_2015-2017',\\\n",
    "'chick_rate']],\n",
    "            kind=\"reg\", plot_kws={'line_kws':{'color':'black'}})\n",
    "#plt.xticks(rotation=80)"
   ]
  },
  {
   "cell_type": "code",
   "execution_count": 57,
   "metadata": {},
   "outputs": [
    {
     "data": {
      "text/plain": [
       "Text(0.5, 1.0, 'distribution disponibilité alimentaire')"
      ]
     },
     "execution_count": 57,
     "metadata": {},
     "output_type": "execute_result"
    },
    {
     "data": {
      "image/png": "[encoded data removed]",
      "text/plain": [
       "<Figure size 432x288 with 1 Axes>"
      ]
     },
     "metadata": {
      "needs_background": "light"
     },
     "output_type": "display_data"
    }
   ],
   "source": [
    "glo_df2017[\"dispo_alim\"].plot(kind='hist')\n",
    "plt.title('distribution disponibilité alimentaire')"
   ]
  },
  {
   "cell_type": "markdown",
   "metadata": {},
   "source": [
    "=> A ce stade, on considère que cette distribution suit une loi Gaussienne avec une marge d'erreur (on développera la problématique de tests statistiques dans un paragraphe ultérieur)"
   ]
  },
  {
   "cell_type": "code",
   "execution_count": 58,
   "metadata": {},
   "outputs": [
    {
     "data": {
      "text/plain": [
       "Text(0.5, 1.0, 'ev_2015-2017')"
      ]
     },
     "execution_count": 58,
     "metadata": {},
     "output_type": "execute_result"
    },
    {
     "data": {
      "image/png": "[encoded data removed]",
      "text/plain": [
       "<Figure size 432x288 with 1 Axes>"
      ]
     },
     "metadata": {
      "needs_background": "light"
     },
     "output_type": "display_data"
    }
   ],
   "source": [
    "glo_df2017[\"ev_2015-2017\"].plot(kind='hist')\n",
    "plt.title('ev_2015-2017')"
   ]
  },
  {
   "cell_type": "markdown",
   "metadata": {},
   "source": [
    "=> On remarque que la distribution de la variable semble suivre une loi Gaussienne, La méthode ACP suppose des variables distribuées selon une loi Gaussienne"
   ]
  },
  {
   "cell_type": "code",
   "execution_count": 59,
   "metadata": {},
   "outputs": [
    {
     "data": {
      "text/plain": [
       "Text(0.5, 1.0, 'distribution modalités var : taux de disponibilité viande volaille')"
      ]
     },
     "execution_count": 59,
     "metadata": {},
     "output_type": "execute_result"
    },
    {
     "data": {
      "image/png": "[encoded data removed]",
      "text/plain": [
       "<Figure size 432x288 with 1 Axes>"
      ]
     },
     "metadata": {
      "needs_background": "light"
     },
     "output_type": "display_data"
    }
   ],
   "source": [
    "glo_df2017[\"chick_rate\"].plot(kind='hist')\n",
    "plt.title('distribution modalités var : taux de disponibilité viande volaille')"
   ]
  },
  {
   "cell_type": "markdown",
   "metadata": {},
   "source": [
    "=> Ici encore on a pas une Loi Gaussienne mais on considère qu'elle s'en approche suffisemment\\\n",
    "pour y appliquer une ACP"
   ]
  },
  {
   "cell_type": "code",
   "execution_count": null,
   "metadata": {},
   "outputs": [],
   "source": []
  },
  {
   "cell_type": "markdown",
   "metadata": {},
   "source": [
    "On relève au moins une variable qui ne suit pas du tout une Loi Gaussienne pour illustrer mais remarquons qu'elle contribue relativement peu au composantes principales qui seront utilisées pour illustrer les groupes : le PIB"
   ]
  },
  {
   "cell_type": "code",
   "execution_count": 60,
   "metadata": {},
   "outputs": [
    {
     "data": {
      "text/plain": [
       "Text(0.5, 1.0, 'distribution variable PIB/hab')"
      ]
     },
     "execution_count": 60,
     "metadata": {},
     "output_type": "execute_result"
    },
    {
     "data": {
      "image/png": "[encoded data removed]",
      "text/plain": [
       "<Figure size 432x288 with 1 Axes>"
      ]
     },
     "metadata": {
      "needs_background": "light"
     },
     "output_type": "display_data"
    }
   ],
   "source": [
    "glo_df2017[\"PIB par habitant, ($ PPA internationaux constants de 2011)\"].plot(kind='hist')\n",
    "plt.title('distribution variable PIB/hab')"
   ]
  },
  {
   "cell_type": "markdown",
   "metadata": {},
   "source": [
    "## Méthode de l'ACP"
   ]
  },
  {
   "cell_type": "markdown",
   "metadata": {},
   "source": [
    "On suit la méthode de 'Epimed' https://github.com/epimed/eoc-ai-session-2/blob/main/notebook/demo_pca_tsne_umap.ipynb"
   ]
  },
  {
   "cell_type": "code",
   "execution_count": 61,
   "metadata": {},
   "outputs": [],
   "source": [
    "# Données des caractéristiques de pays, on split le jeur de données\n",
    "glo = glo_df2017.drop('cluster', axis=1)\n",
    "X = glo.select_dtypes('number') \n",
    "#on mets la var cluster dans un objet séparé, elle ne fait pas partie des données à analyser\n",
    "#mais elle nous servira pour comparer la classification k-means vs. structure graphique PCA\n",
    "y = glo_df2017['cluster']"
   ]
  },
  {
   "cell_type": "code",
   "execution_count": 62,
   "metadata": {},
   "outputs": [
    {
     "data": {
      "text/plain": [
       "<AxesSubplot:ylabel='Distribution'>"
      ]
     },
     "execution_count": 62,
     "metadata": {},
     "output_type": "execute_result"
    },
    {
     "data": {
      "image/png": "[encoded data removed]",
      "text/plain": [
       "<Figure size 1080x288 with 1 Axes>"
      ]
     },
     "metadata": {
      "needs_background": "light"
     },
     "output_type": "display_data"
    }
   ],
   "source": [
    "#on observe la variance des variables\n",
    "X.plot(kind='box', figsize=(15, 4), rot=90, ylabel='Distribution')"
   ]
  },
  {
   "cell_type": "code",
   "execution_count": 63,
   "metadata": {},
   "outputs": [],
   "source": [
    "scaler = StandardScaler() # instanciation de l'objet scaler\n",
    "X_scaled = scaler.fit_transform(X) # normalisation centrée-réduite\n",
    "X_scaled = pd.DataFrame(X_scaled, index=X.index, columns=X.columns) # conversion du résultat en objet dataframe de pandas"
   ]
  },
  {
   "cell_type": "code",
   "execution_count": 64,
   "metadata": {},
   "outputs": [
    {
     "data": {
      "text/plain": [
       "<AxesSubplot:ylabel='Distribution'>"
      ]
     },
     "execution_count": 64,
     "metadata": {},
     "output_type": "execute_result"
    },
    {
     "data": {
      "image/png": "[encoded data removed]",
      "text/plain": [
       "<Figure size 1080x288 with 1 Axes>"
      ]
     },
     "metadata": {
      "needs_background": "light"
     },
     "output_type": "display_data"
    }
   ],
   "source": [
    "X_scaled.plot(kind='box', figsize=(15, 4), rot=90, ylabel='Distribution')"
   ]
  },
  {
   "cell_type": "code",
   "execution_count": 65,
   "metadata": {
    "scrolled": true
   },
   "outputs": [
    {
     "data": {
      "text/html": [
       "<div>\n",
       "<style scoped>\n",
       "    .dataframe tbody tr th:only-of-type {\n",
       "        vertical-align: middle;\n",
       "    }\n",
       "\n",
       "    .dataframe tbody tr th {\n",
       "        vertical-align: top;\n",
       "    }\n",
       "\n",
       "    .dataframe thead th {\n",
       "        text-align: right;\n",
       "    }\n",
       "</style>\n",
       "<table border=\"1\" class=\"dataframe\">\n",
       "  <thead>\n",
       "    <tr style=\"text-align: right;\">\n",
       "      <th></th>\n",
       "      <th>PC1</th>\n",
       "      <th>PC2</th>\n",
       "      <th>PC3</th>\n",
       "      <th>PC4</th>\n",
       "      <th>PC5</th>\n",
       "      <th>PC6</th>\n",
       "    </tr>\n",
       "    <tr>\n",
       "      <th>Zone</th>\n",
       "      <th></th>\n",
       "      <th></th>\n",
       "      <th></th>\n",
       "      <th></th>\n",
       "      <th></th>\n",
       "      <th></th>\n",
       "    </tr>\n",
       "  </thead>\n",
       "  <tbody>\n",
       "    <tr>\n",
       "      <th>Afghanistan</th>\n",
       "      <td>-3.653265</td>\n",
       "      <td>-0.277124</td>\n",
       "      <td>0.163825</td>\n",
       "      <td>1.276214</td>\n",
       "      <td>0.694559</td>\n",
       "      <td>0.014118</td>\n",
       "    </tr>\n",
       "    <tr>\n",
       "      <th>Afrique du Sud</th>\n",
       "      <td>0.212140</td>\n",
       "      <td>1.135268</td>\n",
       "      <td>-0.181355</td>\n",
       "      <td>0.610806</td>\n",
       "      <td>-0.369338</td>\n",
       "      <td>-0.348222</td>\n",
       "    </tr>\n",
       "    <tr>\n",
       "      <th>Albanie</th>\n",
       "      <td>1.194275</td>\n",
       "      <td>-0.429796</td>\n",
       "      <td>1.178905</td>\n",
       "      <td>-0.124190</td>\n",
       "      <td>-0.680464</td>\n",
       "      <td>0.555675</td>\n",
       "    </tr>\n",
       "    <tr>\n",
       "      <th>Algérie</th>\n",
       "      <td>-1.015156</td>\n",
       "      <td>-1.267233</td>\n",
       "      <td>0.269529</td>\n",
       "      <td>0.834703</td>\n",
       "      <td>-1.103820</td>\n",
       "      <td>-0.290976</td>\n",
       "    </tr>\n",
       "    <tr>\n",
       "      <th>Allemagne</th>\n",
       "      <td>2.273514</td>\n",
       "      <td>-1.372419</td>\n",
       "      <td>-0.041328</td>\n",
       "      <td>0.248277</td>\n",
       "      <td>0.009377</td>\n",
       "      <td>0.286551</td>\n",
       "    </tr>\n",
       "  </tbody>\n",
       "</table>\n",
       "</div>"
      ],
      "text/plain": [
       "                     PC1       PC2       PC3       PC4       PC5       PC6\n",
       "Zone                                                                      \n",
       "Afghanistan    -3.653265 -0.277124  0.163825  1.276214  0.694559  0.014118\n",
       "Afrique du Sud  0.212140  1.135268 -0.181355  0.610806 -0.369338 -0.348222\n",
       "Albanie         1.194275 -0.429796  1.178905 -0.124190 -0.680464  0.555675\n",
       "Algérie        -1.015156 -1.267233  0.269529  0.834703 -1.103820 -0.290976\n",
       "Allemagne       2.273514 -1.372419 -0.041328  0.248277  0.009377  0.286551"
      ]
     },
     "execution_count": 65,
     "metadata": {},
     "output_type": "execute_result"
    }
   ],
   "source": [
    "#On plot les coordonnées en 6 dimensions dans le plan engendré par les eigenvecteurs\n",
    "pca = PCA() # instanciation de l'objet pca\n",
    "X_p = pca.fit_transform(X_scaled)\n",
    "pca_columns = ['PC' + str(c) for c in range(1, X_p.shape[1]+1, 1)]\n",
    "\n",
    "X_pca = pd.DataFrame(X_p, index=X.index, columns=pca_columns) # création du dataframe\n",
    "X_pca.head()"
   ]
  },
  {
   "cell_type": "code",
   "execution_count": 66,
   "metadata": {},
   "outputs": [
    {
     "name": "stdout",
     "output_type": "stream",
     "text": [
      "PC1    53.688191\n",
      "PC2    14.497698\n",
      "PC3    12.235016\n",
      "PC4     9.600487\n",
      "PC5     5.800172\n",
      "PC6     4.178436\n",
      "dtype: float64\n"
     ]
    }
   ],
   "source": [
    "#print(pca.explained_variance_ratio_)\n",
    "explained_variance = pd.Series(dict(zip(X_pca.columns, 100.0*pca.explained_variance_ratio_)))\n",
    "print(explained_variance)"
   ]
  },
  {
   "cell_type": "markdown",
   "metadata": {},
   "source": [
    "#### Quelle est la relation entre les PC et les var initiales? \n",
    "loadings \"wi\" : \"would represent each features influence on the associated PC\"\\\n",
    "see https://stackoverflow.com/questions/67585809/how-to-map-the-results-of-principal-component-analysis-back-to-the-actual-featur"
   ]
  },
  {
   "cell_type": "code",
   "execution_count": 67,
   "metadata": {},
   "outputs": [
    {
     "data": {
      "text/html": [
       "<div>\n",
       "<style scoped>\n",
       "    .dataframe tbody tr th:only-of-type {\n",
       "        vertical-align: middle;\n",
       "    }\n",
       "\n",
       "    .dataframe tbody tr th {\n",
       "        vertical-align: top;\n",
       "    }\n",
       "\n",
       "    .dataframe thead th {\n",
       "        text-align: right;\n",
       "    }\n",
       "</style>\n",
       "<table border=\"1\" class=\"dataframe\">\n",
       "  <thead>\n",
       "    <tr style=\"text-align: right;\">\n",
       "      <th></th>\n",
       "      <th>PC1</th>\n",
       "      <th>PC2</th>\n",
       "      <th>PC3</th>\n",
       "      <th>PC4</th>\n",
       "      <th>PC5</th>\n",
       "      <th>PC6</th>\n",
       "    </tr>\n",
       "  </thead>\n",
       "  <tbody>\n",
       "    <tr>\n",
       "      <th>dispo_alim</th>\n",
       "      <td>0.422715</td>\n",
       "      <td>0.414549</td>\n",
       "      <td>0.405520</td>\n",
       "      <td>0.493490</td>\n",
       "      <td>-0.358198</td>\n",
       "      <td>0.336416</td>\n",
       "    </tr>\n",
       "    <tr>\n",
       "      <th>PIB par habitant, ($ PPA internationaux constants de 2011)</th>\n",
       "      <td>-0.433008</td>\n",
       "      <td>-0.445741</td>\n",
       "      <td>0.026032</td>\n",
       "      <td>0.150695</td>\n",
       "      <td>-0.071218</td>\n",
       "      <td>0.765088</td>\n",
       "    </tr>\n",
       "    <tr>\n",
       "      <th>Stabilité politique et absence de violence/terrorisme (indice)</th>\n",
       "      <td>0.147168</td>\n",
       "      <td>-0.395673</td>\n",
       "      <td>-0.231825</td>\n",
       "      <td>-0.081364</td>\n",
       "      <td>-0.848814</td>\n",
       "      <td>-0.202327</td>\n",
       "    </tr>\n",
       "    <tr>\n",
       "      <th>rate_prot</th>\n",
       "      <td>0.386169</td>\n",
       "      <td>0.126906</td>\n",
       "      <td>-0.835010</td>\n",
       "      <td>0.148510</td>\n",
       "      <td>0.148796</td>\n",
       "      <td>0.305502</td>\n",
       "    </tr>\n",
       "    <tr>\n",
       "      <th>ev_2015-2017</th>\n",
       "      <td>-0.667952</td>\n",
       "      <td>0.598543</td>\n",
       "      <td>-0.278819</td>\n",
       "      <td>0.120966</td>\n",
       "      <td>-0.312915</td>\n",
       "      <td>-0.072788</td>\n",
       "    </tr>\n",
       "    <tr>\n",
       "      <th>chick_rate</th>\n",
       "      <td>-0.129889</td>\n",
       "      <td>-0.313923</td>\n",
       "      <td>-0.078430</td>\n",
       "      <td>0.830933</td>\n",
       "      <td>0.161495</td>\n",
       "      <td>-0.402366</td>\n",
       "    </tr>\n",
       "  </tbody>\n",
       "</table>\n",
       "</div>"
      ],
      "text/plain": [
       "                                                         PC1       PC2  \\\n",
       "dispo_alim                                          0.422715  0.414549   \n",
       "PIB par habitant, ($ PPA internationaux constan... -0.433008 -0.445741   \n",
       "Stabilité politique et absence de violence/terr...  0.147168 -0.395673   \n",
       "rate_prot                                           0.386169  0.126906   \n",
       "ev_2015-2017                                       -0.667952  0.598543   \n",
       "chick_rate                                         -0.129889 -0.313923   \n",
       "\n",
       "                                                         PC3       PC4  \\\n",
       "dispo_alim                                          0.405520  0.493490   \n",
       "PIB par habitant, ($ PPA internationaux constan...  0.026032  0.150695   \n",
       "Stabilité politique et absence de violence/terr... -0.231825 -0.081364   \n",
       "rate_prot                                          -0.835010  0.148510   \n",
       "ev_2015-2017                                       -0.278819  0.120966   \n",
       "chick_rate                                         -0.078430  0.830933   \n",
       "\n",
       "                                                         PC5       PC6  \n",
       "dispo_alim                                         -0.358198  0.336416  \n",
       "PIB par habitant, ($ PPA internationaux constan... -0.071218  0.765088  \n",
       "Stabilité politique et absence de violence/terr... -0.848814 -0.202327  \n",
       "rate_prot                                           0.148796  0.305502  \n",
       "ev_2015-2017                                       -0.312915 -0.072788  \n",
       "chick_rate                                          0.161495 -0.402366  "
      ]
     },
     "execution_count": 67,
     "metadata": {},
     "output_type": "execute_result"
    }
   ],
   "source": [
    "PCnames = ['PC'+str(i+1) for i in range(pca.n_components_)]\n",
    "Loadings = pd.DataFrame(pca.components_,columns=PCnames,index=X.columns)\n",
    "\n",
    "Loadings"
   ]
  },
  {
   "cell_type": "code",
   "execution_count": 68,
   "metadata": {},
   "outputs": [
    {
     "data": {
      "text/plain": [
       "Text(0.5, 1.0, 'PC4 loadings')"
      ]
     },
     "execution_count": 68,
     "metadata": {},
     "output_type": "execute_result"
    },
    {
     "data": {
      "image/png": "[encoded data removed]",
      "text/plain": [
       "<Figure size 432x288 with 1 Axes>"
      ]
     },
     "metadata": {
      "needs_background": "light"
     },
     "output_type": "display_data"
    }
   ],
   "source": [
    "Loadings[\"PC4\"].sort_values().plot.barh()\n",
    "plt.title('PC4 loadings')\n",
    "#plt.savefig(\"loadings_PC4.png\")"
   ]
  },
  {
   "cell_type": "markdown",
   "metadata": {},
   "source": [
    "=> En testant les 6 PC, on observe que la PC4 est celle dont la valeur de la composante selon la variable 'chick_rate' est la plus forte. Or c'est la seule variable qui contient une information relative à la disponibilité de volaille (une variable particulièrment intéressante pour notre analyse donc). \\\n",
    "=> Mais dès lors que l'on plot les donnés sur 2 PC ou plus, comme le montre le cercle de corrélation, cet aspect, seul, n'est plus suffisant dans le choix des PC"
   ]
  },
  {
   "cell_type": "code",
   "execution_count": 69,
   "metadata": {},
   "outputs": [
    {
     "data": {
      "image/png": "[encoded data removed]",
      "text/plain": [
       "<Figure size 576x576 with 1 Axes>"
      ]
     },
     "metadata": {
      "needs_background": "light"
     },
     "output_type": "display_data"
    }
   ],
   "source": [
    "# Plot a variable factor map for the first two dimensions.\n",
    "(fig, ax) = plt.subplots(figsize=(8, 8))\n",
    "for i in range(0, pca.components_.shape[1]):\n",
    "    ax.arrow(0,\n",
    "             0,  # Start the arrow at the origin\n",
    "             pca.components_[0, i],  #0 for PC1\n",
    "             pca.components_[1, i],  #1 for PC2\n",
    "             head_width=0.1,\n",
    "             head_length=0.1)\n",
    "\n",
    "    plt.text(pca.components_[0, i] + 0.05,\n",
    "             pca.components_[1, i] + 0.05,\n",
    "             X.columns.values[i])\n",
    "\n",
    "\n",
    "an = np.linspace(0, 2 * np.pi, 100)\n",
    "plt.plot(np.cos(an), np.sin(an))  # Add a unit circle for scale\n",
    "\n",
    "plt.plot([-1,1],[0,0],color='silver',linestyle='-',linewidth=1)\n",
    "plt.plot([0,0],[-1,1],color='silver',linestyle='-',linewidth=1)\n",
    "\n",
    "plt.xlabel(\"PC1 (%s%%)\" % str(explained_variance[0])[:5].lstrip(\"0.\"))\n",
    "plt.ylabel(\"PC2 (%s%%)\" % str(explained_variance[1])[:5].lstrip(\"0.\"))\n",
    "ax.set_title('Variable factor map')\n",
    "#plt.savefig(\"correlation_circle.pdf\")\n",
    "plt.show()"
   ]
  },
  {
   "cell_type": "markdown",
   "metadata": {},
   "source": [
    "=> Le cercle de corrélation montre que la var taux de poulet dans la disponibilité alimentaire est bien représentée lorsqu'elle est plottée dans le 1er plan factoriel. C'est bien pour notre analyse car c'est la seule variable qui reflète la consomation de poulet. On remarque aussi que cette variable est faiblement corrélée au PIB"
   ]
  },
  {
   "cell_type": "code",
   "execution_count": 70,
   "metadata": {},
   "outputs": [
    {
     "data": {
      "text/plain": [
       "Text(0.5, 1.0, 'dispersion des individus selon les 2 premières PC')"
      ]
     },
     "execution_count": 70,
     "metadata": {},
     "output_type": "execute_result"
    },
    {
     "data": {
      "image/png": "[encoded data removed]",
      "text/plain": [
       "<Figure size 360x360 with 1 Axes>"
      ]
     },
     "metadata": {
      "needs_background": "light"
     },
     "output_type": "display_data"
    }
   ],
   "source": [
    "#On projette sur le plan généré par les 2 composantes principales qui comptent pour ~ 68% de la variabilité des données\n",
    "colors = {0:'tab:blue', 1:'tab:orange', 2:'tab:green', 3:'tab:red'}\n",
    "X_pca.plot(x='PC1', y='PC2', kind='scatter', c=y.map(colors), figsize=(5, 5))\n",
    "plt.title('dispersion des individus selon les 2 premières PC')\n",
    "\n",
    "#plt.savefig(\"PCA_plane.png\")"
   ]
  },
  {
   "cell_type": "markdown",
   "metadata": {},
   "source": [
    "=> On observe en comparant avec la méthode K-means que l'ACP a assez bien préservé la structure du dataset : la méthode k-means montrait 2=<k<=4, l'ACP aussi"
   ]
  },
  {
   "cell_type": "markdown",
   "metadata": {},
   "source": [
    "### On teste la cohérence de l'ACP avec le dendrogramme"
   ]
  },
  {
   "cell_type": "code",
   "execution_count": 71,
   "metadata": {},
   "outputs": [
    {
     "data": {
      "text/plain": [
       "Text(0.5, 1.0, 'dispersion des individus selon les 2 premières PC (comparaison avec dendrogramme)')"
      ]
     },
     "execution_count": 71,
     "metadata": {},
     "output_type": "execute_result"
    },
    {
     "data": {
      "image/png": "[encoded data removed]",
      "text/plain": [
       "<Figure size 360x360 with 1 Axes>"
      ]
     },
     "metadata": {
      "needs_background": "light"
     },
     "output_type": "display_data"
    }
   ],
   "source": [
    "#On projette sur le plan généré par les 2 composantes principales qui comptent pour ~ 68% de la variabilité des données\n",
    "colors2 = {1:'tab:blue', 2:'tab:orange', 3:'tab:green', 4:'tab:red'}\n",
    "X_pca.plot(x='PC1', y='PC2', kind='scatter', c=clust_df.Groupe.map(colors2), figsize=(5, 5))\n",
    "plt.title('dispersion des individus selon les 2 premières PC (comparaison avec dendrogramme)')\n",
    "#plt.savefig(\"PCA_plane_dend.png\")"
   ]
  },
  {
   "cell_type": "markdown",
   "metadata": {},
   "source": [
    "#### => On observe que les groupes du dendrogramme correspondent mal avec la structure des données que l'ACP dégage (pour k=4) ... La pertinence du dedrogramme doit être limitée"
   ]
  },
  {
   "cell_type": "code",
   "execution_count": 72,
   "metadata": {},
   "outputs": [
    {
     "data": {
      "text/plain": [
       "Text(0.5, 0.92, 'sample plotted on first 3 PCs')"
      ]
     },
     "execution_count": 72,
     "metadata": {},
     "output_type": "execute_result"
    },
    {
     "data": {
      "image/png": "[encoded data removed]",
      "text/plain": [
       "<Figure size 720x720 with 1 Axes>"
      ]
     },
     "metadata": {
      "needs_background": "light"
     },
     "output_type": "display_data"
    }
   ],
   "source": [
    "# On projette sur les 3 composantes principales par ordre d'importance pour les 2 premières\\\n",
    "#pour la 3ème, on retient la PC4 pour laquelle le poids de la var 'taux de volaille' est le plus grand\\\n",
    "#elles comptent pour > 77% de la variabilité des données\n",
    "\n",
    "fig = plt.figure(figsize=(10, 10))\n",
    "ax = fig.add_subplot(projection='3d')\n",
    "\n",
    "ax.scatter(X_pca['PC1'], X_pca['PC2'], X_pca['PC3'], marker='o', s=30, c=y.map(colors))\n",
    "ax.set_xlabel('PC1 - ' + '{:.1f}%'.format(explained_variance['PC1']))\n",
    "ax.set_ylabel('PC2 - ' + '{:.1f}%'.format(explained_variance['PC2']))\n",
    "ax.set_zlabel('PC3 - ' + '{:.1f}%'.format(explained_variance['PC3']))\n",
    "ax.view_init(elev=35, azim=60)\n",
    "plt.title('sample plotted on first 3 PCs')\n",
    "#plt.savefig(\"PCA_3D.png\")"
   ]
  },
  {
   "cell_type": "markdown",
   "metadata": {},
   "source": [
    "=> On plot les données dans la base formée par les 2 composantes principales qui maximisent la Variance et la PC3 qui ne compte que ~12% de la Variance. On s'attends à ce que l'information quant au dataset soit faible si on plot par PC3 mais cela apporte tout de même une information sur la structure des données car on peut représenter le dataset en 3-D"
   ]
  },
  {
   "cell_type": "code",
   "execution_count": null,
   "metadata": {},
   "outputs": [],
   "source": []
  },
  {
   "cell_type": "markdown",
   "metadata": {},
   "source": [
    "### **Tests statistiques**"
   ]
  },
  {
   "cell_type": "code",
   "execution_count": 73,
   "metadata": {},
   "outputs": [],
   "source": [
    "import statsmodels.api as sm\n",
    "from scipy.stats import shapiro, ttest_ind"
   ]
  },
  {
   "cell_type": "code",
   "execution_count": 74,
   "metadata": {},
   "outputs": [
    {
     "data": {
      "text/plain": [
       "count    201.000000\n",
       "mean      -0.061777\n",
       "std        0.984924\n",
       "min       -2.940000\n",
       "25%       -0.650000\n",
       "50%        0.030000\n",
       "75%        0.750000\n",
       "max        1.920000\n",
       "Name: Stabilité politique et absence de violence/terrorisme (indice), dtype: float64"
      ]
     },
     "execution_count": 74,
     "metadata": {},
     "output_type": "execute_result"
    }
   ],
   "source": [
    "#on observe la variable choisie\n",
    "glo_df2017[\"Stabilité politique et absence de violence/terrorisme (indice)\"].describe()"
   ]
  },
  {
   "cell_type": "code",
   "execution_count": 75,
   "metadata": {},
   "outputs": [
    {
     "data": {
      "text/plain": [
       "(array([ 3., 10.,  6., 11., 29., 40., 35., 34., 30.,  3.]),\n",
       " array([-2.94 , -2.454, -1.968, -1.482, -0.996, -0.51 , -0.024,  0.462,\n",
       "         0.948,  1.434,  1.92 ]),\n",
       " <BarContainer object of 10 artists>)"
      ]
     },
     "execution_count": 75,
     "metadata": {},
     "output_type": "execute_result"
    },
    {
     "data": {
      "image/png": "[encoded data removed]",
      "text/plain": [
       "<Figure size 432x288 with 1 Axes>"
      ]
     },
     "metadata": {
      "needs_background": "light"
     },
     "output_type": "display_data"
    }
   ],
   "source": [
    "#On teste quelques plot et on décide d'analyser la var 'stabilité politique...'\n",
    "plt.hist(glo_df2017[\"Stabilité politique et absence de violence/terrorisme (indice)\"])"
   ]
  },
  {
   "cell_type": "code",
   "execution_count": 76,
   "metadata": {},
   "outputs": [
    {
     "name": "stderr",
     "output_type": "stream",
     "text": [
      "/home/zuko/anaconda3/lib/python3.9/site-packages/statsmodels/graphics/gofplots.py:993: UserWarning: marker is redundantly defined by the 'marker' keyword argument and the fmt string \"bo\" (-> marker='o'). The keyword argument will take precedence.\n",
      "  ax.plot(x, y, fmt, **plot_style)\n"
     ]
    },
    {
     "data": {
      "image/png": "[encoded data removed]",
      "text/plain": [
       "<Figure size 432x288 with 1 Axes>"
      ]
     },
     "metadata": {
      "needs_background": "light"
     },
     "output_type": "display_data"
    }
   ],
   "source": [
    "#La variable stabilité politique est-elle distribuée normalement?\n",
    "#On fait un Q-Q plot pour voir si cette variable est distribuée normalement\n",
    "fig = sm.qqplot(glo_df2017[\"Stabilité politique et absence de violence/terrorisme (indice)\"], line='45')\n",
    "plt.show()"
   ]
  },
  {
   "cell_type": "code",
   "execution_count": 77,
   "metadata": {},
   "outputs": [
    {
     "data": {
      "text/plain": [
       "ShapiroResult(statistic=0.9603392481803894, pvalue=2.052609488600865e-05)"
      ]
     },
     "execution_count": 77,
     "metadata": {},
     "output_type": "execute_result"
    }
   ],
   "source": [
    "#On a une variable \n",
    "#H0 la variable ne suit pas une Loi normale\n",
    "#H1 la variable suit une Loi normale\n",
    "shapiro(glo_df2017[\"Stabilité politique et absence de violence/terrorisme (indice)\"])"
   ]
  },
  {
   "cell_type": "markdown",
   "metadata": {},
   "source": [
    "=> p-value << 0.05 donc l'hypothèse que la variable est distribuée normalement est rejetée\\\n",
    "L'histogramme indique tout de même un silhouette qui aurait été comparable à la Courbe de Gauss si elle n'était pas 'skewed'"
   ]
  },
  {
   "cell_type": "markdown",
   "metadata": {},
   "source": [
    "### comparaison de 2 sous échantillons"
   ]
  },
  {
   "cell_type": "code",
   "execution_count": 78,
   "metadata": {},
   "outputs": [],
   "source": [
    "#on définit 2 sous échantillons\n",
    "echa_1 = glo_df2017.loc[glo_df2017['cluster'] == coord_center.index[0]].drop('cluster', axis=1)\n",
    "echa_2 = glo_df2017.loc[glo_df2017['cluster'] == coord_center.index[3]].drop('cluster', axis=1)"
   ]
  },
  {
   "cell_type": "code",
   "execution_count": 79,
   "metadata": {},
   "outputs": [
    {
     "data": {
      "text/plain": [
       "Ttest_indResult(statistic=10.550437078924555, pvalue=2.123687763172522e-18)"
      ]
     },
     "execution_count": 79,
     "metadata": {},
     "output_type": "execute_result"
    }
   ],
   "source": [
    "#les individus sont différents dans chaque groupe donc on applique un 'Independent Group t-test'\n",
    "#H0 : les échantillons sont semblables en termes de leur moyennes\n",
    "#H1 : les échantillons viennent de populations différentes en termes de moyennes pour les var choisies\n",
    "ttest_ind(echa_1[\"Stabilité politique et absence de violence/terrorisme (indice)\"], \\\n",
    "          echa_2[\"Stabilité politique et absence de violence/terrorisme (indice)\"])"
   ]
  },
  {
   "cell_type": "markdown",
   "metadata": {},
   "source": [
    "### => p-values << 0.05 donc les échantillons viennent de populations différentes on avait indiqué que la variable stabilité politique était celle dont la distribution était la plus proche d'une loi gaussienne"
   ]
  },
  {
   "cell_type": "code",
   "execution_count": null,
   "metadata": {},
   "outputs": [],
   "source": []
  }
 ],
 "metadata": {
  "kernelspec": {
   "display_name": "Python 3 (ipykernel)",
   "language": "python",
   "name": "python3"
  },
  "language_info": {
   "codemirror_mode": {
    "name": "ipython",
    "version": 3
   },
   "file_extension": ".py",
   "mimetype": "text/x-python",
   "name": "python",
   "nbconvert_exporter": "python",
   "pygments_lexer": "ipython3",
   "version": "3.9.7"
  }
 },
 "nbformat": 4,
 "nbformat_minor": 4
}
